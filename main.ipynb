{
 "cells": [
  {
   "cell_type": "markdown",
   "metadata": {},
   "source": [
    "Amazon Best Seller Softwares :\n",
    "\n",
    "        \tData loading and cleaning\n",
    "        \tNumPy/Pandas operations\n",
    "        \tAt least 3 different visualizations\n"
   ]
  },
  {
   "cell_type": "markdown",
   "metadata": {},
   "source": [
    "IMPORTING LIBRARIES"
   ]
  },
  {
   "cell_type": "code",
   "execution_count": 18,
   "metadata": {},
   "outputs": [],
   "source": [
    "# Import required libraries\n",
    "import numpy as np\n",
    "import pandas as pd\n",
    "import matplotlib.pyplot as plt\n",
    "import seaborn as sns\n",
    "from datetime import datetime"
   ]
  },
  {
   "cell_type": "markdown",
   "metadata": {},
   "source": [
    "IMPORTING THE DATASET "
   ]
  },
  {
   "cell_type": "code",
   "execution_count": 46,
   "metadata": {},
   "outputs": [
    {
     "name": "stdout",
     "output_type": "stream",
     "text": [
      "DataSet info: \n",
      "<class 'pandas.core.frame.DataFrame'>\n",
      "RangeIndex: 10000 entries, 0 to 9999\n",
      "Data columns (total 28 columns):\n",
      " #   Column                                              Non-Null Count  Dtype  \n",
      "---  ------                                              --------------  -----  \n",
      " 0   Date                                                10000 non-null  object \n",
      " 1    Month_Num                                          10000 non-null  int64  \n",
      " 2    Weekday                                            10000 non-null  object \n",
      " 3    AI_Platform                                        10000 non-null  object \n",
      " 4    AI_Model_Version                                   10000 non-null  object \n",
      " 5    Active_Users                                       10000 non-null  int64  \n",
      " 6    New_Users                                          10000 non-null  int64  \n",
      " 7    Churned_Users                                      10000 non-null  int64  \n",
      " 8    Daily_Churn_Rate                                   10000 non-null  float64\n",
      " 9    Retention_Rate                                     10000 non-null  float64\n",
      " 10   User_ID                                            10000 non-null  object \n",
      " 11   Query_Type                                         10000 non-null  object \n",
      " 12   Input_Text                                         10000 non-null  object \n",
      " 13   Input_Text_Length                                  10000 non-null  int64  \n",
      " 14   Response_Tokens                                    10000 non-null  int64  \n",
      " 15   Topic_Category                                     10000 non-null  object \n",
      " 16   User_Rating                                        10000 non-null  int64  \n",
      " 17   User_Experience_Score                              10000 non-null  float64\n",
      " 18   Session_Duration_sec                               10000 non-null  int64  \n",
      " 19   Device_Type                                        10000 non-null  object \n",
      " 20   Language                                           10000 non-null  object \n",
      " 21   Response_Accuracy                                  10000 non-null  object \n",
      " 22   Response_Speed_sec                                 10000 non-null  float64\n",
      " 23   Response_Time_Category                             10000 non-null  object \n",
      " 24   Correction_Needed                                  10000 non-null  int64  \n",
      " 25   User_Return_Frequency                              10000 non-null  int64  \n",
      " 26   Customer_Support_Interactions                      10000 non-null  int64  \n",
      " 27   Region                                             10000 non-null  object \n",
      "dtypes: float64(4), int64(11), object(13)\n",
      "memory usage: 2.1+ MB\n"
     ]
    }
   ],
   "source": [
    "import pandas as pd\n",
    "\n",
    "# Corrected file path string and placement of '.csv'\n",
    "df = pd.read_csv(r'C:\\Users\\sruja\\Downloads\\DAV_ASSIGNMENT-189\\deepseek_vs_chatgpt_table.csv')\n",
    "\n",
    "print(\"DataSet info: \")\n",
    "df.info()\n"
   ]
  },
  {
   "cell_type": "markdown",
   "metadata": {},
   "source": [
    "## PERFORMING OPERATIONS \n",
    "\n",
    "### NUMPY OPERATIONS: \n"
   ]
  },
  {
   "cell_type": "code",
   "execution_count": 40,
   "metadata": {},
   "outputs": [
    {
     "name": "stdout",
     "output_type": "stream",
     "text": [
      "Dataset shape: (10000, 28)\n",
      "\n",
      "First 5 rows:\n"
     ]
    },
    {
     "data": {
      "text/html": [
       "<div>\n",
       "<style scoped>\n",
       "    .dataframe tbody tr th:only-of-type {\n",
       "        vertical-align: middle;\n",
       "    }\n",
       "\n",
       "    .dataframe tbody tr th {\n",
       "        vertical-align: top;\n",
       "    }\n",
       "\n",
       "    .dataframe thead th {\n",
       "        text-align: right;\n",
       "    }\n",
       "</style>\n",
       "<table border=\"1\" class=\"dataframe\">\n",
       "  <thead>\n",
       "    <tr style=\"text-align: right;\">\n",
       "      <th></th>\n",
       "      <th>Date</th>\n",
       "      <th>Month_Num</th>\n",
       "      <th>Weekday</th>\n",
       "      <th>AI_Platform</th>\n",
       "      <th>AI_Model_Version</th>\n",
       "      <th>Active_Users</th>\n",
       "      <th>New_Users</th>\n",
       "      <th>Churned_Users</th>\n",
       "      <th>Daily_Churn_Rate</th>\n",
       "      <th>Retention_Rate</th>\n",
       "      <th>...</th>\n",
       "      <th>Session_Duration_sec</th>\n",
       "      <th>Device_Type</th>\n",
       "      <th>Language</th>\n",
       "      <th>Response_Accuracy</th>\n",
       "      <th>Response_Speed_sec</th>\n",
       "      <th>Response_Time_Category</th>\n",
       "      <th>Correction_Needed</th>\n",
       "      <th>User_Return_Frequency</th>\n",
       "      <th>Customer_Support_Interactions</th>\n",
       "      <th>Region</th>\n",
       "    </tr>\n",
       "  </thead>\n",
       "  <tbody>\n",
       "    <tr>\n",
       "      <th>0</th>\n",
       "      <td>2024-09-21</td>\n",
       "      <td>9</td>\n",
       "      <td>Saturday</td>\n",
       "      <td>ChatGPT</td>\n",
       "      <td>GPT-4-turbo</td>\n",
       "      <td>500000</td>\n",
       "      <td>25000</td>\n",
       "      <td>25000</td>\n",
       "      <td>0.05</td>\n",
       "      <td>0.95</td>\n",
       "      <td>...</td>\n",
       "      <td>40</td>\n",
       "      <td>Mobile</td>\n",
       "      <td>es</td>\n",
       "      <td>0.7842</td>\n",
       "      <td>3.30</td>\n",
       "      <td>Standard</td>\n",
       "      <td>0</td>\n",
       "      <td>6</td>\n",
       "      <td>2</td>\n",
       "      <td>Antarctica (the territory South of 60 deg S)</td>\n",
       "    </tr>\n",
       "    <tr>\n",
       "      <th>1</th>\n",
       "      <td>2024-09-21</td>\n",
       "      <td>9</td>\n",
       "      <td>Saturday</td>\n",
       "      <td>ChatGPT</td>\n",
       "      <td>GPT-4-turbo</td>\n",
       "      <td>500000</td>\n",
       "      <td>25000</td>\n",
       "      <td>25000</td>\n",
       "      <td>0.05</td>\n",
       "      <td>0.95</td>\n",
       "      <td>...</td>\n",
       "      <td>24</td>\n",
       "      <td>Laptop/Desktop</td>\n",
       "      <td>zh</td>\n",
       "      <td>0.8194</td>\n",
       "      <td>3.28</td>\n",
       "      <td>Standard</td>\n",
       "      <td>1</td>\n",
       "      <td>2</td>\n",
       "      <td>2</td>\n",
       "      <td>Ukraine</td>\n",
       "    </tr>\n",
       "    <tr>\n",
       "      <th>2</th>\n",
       "      <td>2024-09-21</td>\n",
       "      <td>9</td>\n",
       "      <td>Saturday</td>\n",
       "      <td>ChatGPT</td>\n",
       "      <td>GPT-4-turbo</td>\n",
       "      <td>500000</td>\n",
       "      <td>25000</td>\n",
       "      <td>25000</td>\n",
       "      <td>0.05</td>\n",
       "      <td>0.95</td>\n",
       "      <td>...</td>\n",
       "      <td>34</td>\n",
       "      <td>Mobile</td>\n",
       "      <td>en</td>\n",
       "      <td>0.809</td>\n",
       "      <td>3.07</td>\n",
       "      <td>Standard</td>\n",
       "      <td>0</td>\n",
       "      <td>2</td>\n",
       "      <td>0</td>\n",
       "      <td>Grenada</td>\n",
       "    </tr>\n",
       "    <tr>\n",
       "      <th>3</th>\n",
       "      <td>2024-09-21</td>\n",
       "      <td>9</td>\n",
       "      <td>Saturday</td>\n",
       "      <td>ChatGPT</td>\n",
       "      <td>GPT-4-turbo</td>\n",
       "      <td>500000</td>\n",
       "      <td>25000</td>\n",
       "      <td>25000</td>\n",
       "      <td>0.05</td>\n",
       "      <td>0.95</td>\n",
       "      <td>...</td>\n",
       "      <td>18</td>\n",
       "      <td>Mobile</td>\n",
       "      <td>fr</td>\n",
       "      <td>0.8233</td>\n",
       "      <td>3.06</td>\n",
       "      <td>Standard</td>\n",
       "      <td>0</td>\n",
       "      <td>9</td>\n",
       "      <td>0</td>\n",
       "      <td>Guyana</td>\n",
       "    </tr>\n",
       "    <tr>\n",
       "      <th>4</th>\n",
       "      <td>2024-05-16</td>\n",
       "      <td>5</td>\n",
       "      <td>Thursday</td>\n",
       "      <td>DeepSeek</td>\n",
       "      <td>DeepSeek-Chat 1.5</td>\n",
       "      <td>1700000</td>\n",
       "      <td>170000</td>\n",
       "      <td>34000</td>\n",
       "      <td>0.02</td>\n",
       "      <td>0.95</td>\n",
       "      <td>...</td>\n",
       "      <td>10</td>\n",
       "      <td>Mobile</td>\n",
       "      <td>de</td>\n",
       "      <td>0.9366</td>\n",
       "      <td>1.48</td>\n",
       "      <td>Fast</td>\n",
       "      <td>0</td>\n",
       "      <td>9</td>\n",
       "      <td>3</td>\n",
       "      <td>India</td>\n",
       "    </tr>\n",
       "  </tbody>\n",
       "</table>\n",
       "<p>5 rows × 28 columns</p>\n",
       "</div>"
      ],
      "text/plain": [
       "        Date  Month_Num     Weekday   AI_Platform    AI_Model_Version  \\\n",
       "0 2024-09-21          9   Saturday    ChatGPT       GPT-4-turbo         \n",
       "1 2024-09-21          9   Saturday    ChatGPT       GPT-4-turbo         \n",
       "2 2024-09-21          9   Saturday    ChatGPT       GPT-4-turbo         \n",
       "3 2024-09-21          9   Saturday    ChatGPT       GPT-4-turbo         \n",
       "4 2024-05-16          5   Thursday    DeepSeek      DeepSeek-Chat 1.5   \n",
       "\n",
       "   Active_Users  New_Users  Churned_Users  Daily_Churn_Rate  Retention_Rate  \\\n",
       "0        500000      25000          25000              0.05            0.95   \n",
       "1        500000      25000          25000              0.05            0.95   \n",
       "2        500000      25000          25000              0.05            0.95   \n",
       "3        500000      25000          25000              0.05            0.95   \n",
       "4       1700000     170000          34000              0.02            0.95   \n",
       "\n",
       "   ... Session_Duration_sec      Device_Type   Language   Response_Accuracy  \\\n",
       "0  ...                   40   Mobile           es                    0.7842   \n",
       "1  ...                   24   Laptop/Desktop   zh                    0.8194   \n",
       "2  ...                   34   Mobile           en                    0.809    \n",
       "3  ...                   18   Mobile           fr                    0.8233   \n",
       "4  ...                   10   Mobile           de                    0.9366   \n",
       "\n",
       "   Response_Speed_sec   Response_Time_Category  Correction_Needed  \\\n",
       "0                3.30   Standard                                0   \n",
       "1                3.28   Standard                                1   \n",
       "2                3.07   Standard                                0   \n",
       "3                3.06   Standard                                0   \n",
       "4                1.48   Fast                                    0   \n",
       "\n",
       "   User_Return_Frequency  Customer_Support_Interactions  \\\n",
       "0                      6                              2   \n",
       "1                      2                              2   \n",
       "2                      2                              0   \n",
       "3                      9                              0   \n",
       "4                      9                              3   \n",
       "\n",
       "                                          Region  \n",
       "0   Antarctica (the territory South of 60 deg S)  \n",
       "1                                        Ukraine  \n",
       "2                                        Grenada  \n",
       "3                                         Guyana  \n",
       "4                                          India  \n",
       "\n",
       "[5 rows x 28 columns]"
      ]
     },
     "metadata": {},
     "output_type": "display_data"
    },
    {
     "name": "stdout",
     "output_type": "stream",
     "text": [
      "\n",
      "Last 3 rows:\n"
     ]
    },
    {
     "data": {
      "text/html": [
       "<div>\n",
       "<style scoped>\n",
       "    .dataframe tbody tr th:only-of-type {\n",
       "        vertical-align: middle;\n",
       "    }\n",
       "\n",
       "    .dataframe tbody tr th {\n",
       "        vertical-align: top;\n",
       "    }\n",
       "\n",
       "    .dataframe thead th {\n",
       "        text-align: right;\n",
       "    }\n",
       "</style>\n",
       "<table border=\"1\" class=\"dataframe\">\n",
       "  <thead>\n",
       "    <tr style=\"text-align: right;\">\n",
       "      <th></th>\n",
       "      <th>Date</th>\n",
       "      <th>Month_Num</th>\n",
       "      <th>Weekday</th>\n",
       "      <th>AI_Platform</th>\n",
       "      <th>AI_Model_Version</th>\n",
       "      <th>Active_Users</th>\n",
       "      <th>New_Users</th>\n",
       "      <th>Churned_Users</th>\n",
       "      <th>Daily_Churn_Rate</th>\n",
       "      <th>Retention_Rate</th>\n",
       "      <th>...</th>\n",
       "      <th>Session_Duration_sec</th>\n",
       "      <th>Device_Type</th>\n",
       "      <th>Language</th>\n",
       "      <th>Response_Accuracy</th>\n",
       "      <th>Response_Speed_sec</th>\n",
       "      <th>Response_Time_Category</th>\n",
       "      <th>Correction_Needed</th>\n",
       "      <th>User_Return_Frequency</th>\n",
       "      <th>Customer_Support_Interactions</th>\n",
       "      <th>Region</th>\n",
       "    </tr>\n",
       "  </thead>\n",
       "  <tbody>\n",
       "    <tr>\n",
       "      <th>9997</th>\n",
       "      <td>2024-05-17</td>\n",
       "      <td>5</td>\n",
       "      <td>Friday</td>\n",
       "      <td>DeepSeek</td>\n",
       "      <td>DeepSeek-Chat 1.5</td>\n",
       "      <td>1700000</td>\n",
       "      <td>170000</td>\n",
       "      <td>34000</td>\n",
       "      <td>0.02</td>\n",
       "      <td>0.95</td>\n",
       "      <td>...</td>\n",
       "      <td>29</td>\n",
       "      <td>Laptop/Desktop</td>\n",
       "      <td>de</td>\n",
       "      <td>0.9516</td>\n",
       "      <td>0.94</td>\n",
       "      <td>Instant</td>\n",
       "      <td>0</td>\n",
       "      <td>10</td>\n",
       "      <td>2</td>\n",
       "      <td>Ethiopia</td>\n",
       "    </tr>\n",
       "    <tr>\n",
       "      <th>9998</th>\n",
       "      <td>2024-05-17</td>\n",
       "      <td>5</td>\n",
       "      <td>Friday</td>\n",
       "      <td>DeepSeek</td>\n",
       "      <td>DeepSeek-Chat 1.5</td>\n",
       "      <td>1700000</td>\n",
       "      <td>170000</td>\n",
       "      <td>34000</td>\n",
       "      <td>0.02</td>\n",
       "      <td>0.95</td>\n",
       "      <td>...</td>\n",
       "      <td>21</td>\n",
       "      <td>Mobile</td>\n",
       "      <td>de</td>\n",
       "      <td>0.9359</td>\n",
       "      <td>0.83</td>\n",
       "      <td>Instant</td>\n",
       "      <td>0</td>\n",
       "      <td>5</td>\n",
       "      <td>3</td>\n",
       "      <td>Puerto Rico</td>\n",
       "    </tr>\n",
       "    <tr>\n",
       "      <th>9999</th>\n",
       "      <td>2024-05-17</td>\n",
       "      <td>5</td>\n",
       "      <td>Friday</td>\n",
       "      <td>DeepSeek</td>\n",
       "      <td>DeepSeek-Chat 1.5</td>\n",
       "      <td>1700000</td>\n",
       "      <td>170000</td>\n",
       "      <td>34000</td>\n",
       "      <td>0.02</td>\n",
       "      <td>0.95</td>\n",
       "      <td>...</td>\n",
       "      <td>58</td>\n",
       "      <td>Mobile</td>\n",
       "      <td>fr</td>\n",
       "      <td>0.9399</td>\n",
       "      <td>0.76</td>\n",
       "      <td>Instant</td>\n",
       "      <td>1</td>\n",
       "      <td>7</td>\n",
       "      <td>1</td>\n",
       "      <td>Kyrgyz Republic</td>\n",
       "    </tr>\n",
       "  </tbody>\n",
       "</table>\n",
       "<p>3 rows × 28 columns</p>\n",
       "</div>"
      ],
      "text/plain": [
       "           Date  Month_Num     Weekday   AI_Platform    AI_Model_Version  \\\n",
       "9997 2024-05-17          5   Friday      DeepSeek      DeepSeek-Chat 1.5   \n",
       "9998 2024-05-17          5   Friday      DeepSeek      DeepSeek-Chat 1.5   \n",
       "9999 2024-05-17          5   Friday      DeepSeek      DeepSeek-Chat 1.5   \n",
       "\n",
       "      Active_Users  New_Users  Churned_Users  Daily_Churn_Rate  \\\n",
       "9997       1700000     170000          34000              0.02   \n",
       "9998       1700000     170000          34000              0.02   \n",
       "9999       1700000     170000          34000              0.02   \n",
       "\n",
       "      Retention_Rate  ... Session_Duration_sec      Device_Type   Language  \\\n",
       "9997            0.95  ...                   29   Laptop/Desktop   de         \n",
       "9998            0.95  ...                   21   Mobile           de         \n",
       "9999            0.95  ...                   58   Mobile           fr         \n",
       "\n",
       "       Response_Accuracy  Response_Speed_sec   Response_Time_Category  \\\n",
       "9997              0.9516                0.94   Instant                  \n",
       "9998              0.9359                0.83   Instant                  \n",
       "9999              0.9399                0.76   Instant                  \n",
       "\n",
       "      Correction_Needed  User_Return_Frequency  Customer_Support_Interactions  \\\n",
       "9997                  0                     10                              2   \n",
       "9998                  0                      5                              3   \n",
       "9999                  1                      7                              1   \n",
       "\n",
       "                Region  \n",
       "9997          Ethiopia  \n",
       "9998       Puerto Rico  \n",
       "9999   Kyrgyz Republic  \n",
       "\n",
       "[3 rows x 28 columns]"
      ]
     },
     "metadata": {},
     "output_type": "display_data"
    },
    {
     "name": "stdout",
     "output_type": "stream",
     "text": [
      "\n",
      "Missing values:\n",
      "Date                             0\n",
      "Month_Num                        0\n",
      "Weekday                          0\n",
      "AI_Platform                      0\n",
      "AI_Model_Version                 0\n",
      "Active_Users                     0\n",
      "New_Users                        0\n",
      "Churned_Users                    0\n",
      "Daily_Churn_Rate                 0\n",
      "Retention_Rate                   0\n",
      "User_ID                          0\n",
      "Query_Type                       0\n",
      "Input_Text                       0\n",
      "Input_Text_Length                0\n",
      "Response_Tokens                  0\n",
      "Topic_Category                   0\n",
      "User_Rating                      0\n",
      "User_Experience_Score            0\n",
      "Session_Duration_sec             0\n",
      "Device_Type                      0\n",
      "Language                         0\n",
      "Response_Accuracy                0\n",
      "Response_Speed_sec               0\n",
      "Response_Time_Category           0\n",
      "Correction_Needed                0\n",
      "User_Return_Frequency            0\n",
      "Customer_Support_Interactions    0\n",
      "Region                           0\n",
      "dtype: int64\n",
      "\n",
      "Basic statistics:\n"
     ]
    },
    {
     "data": {
      "text/html": [
       "<div>\n",
       "<style scoped>\n",
       "    .dataframe tbody tr th:only-of-type {\n",
       "        vertical-align: middle;\n",
       "    }\n",
       "\n",
       "    .dataframe tbody tr th {\n",
       "        vertical-align: top;\n",
       "    }\n",
       "\n",
       "    .dataframe thead th {\n",
       "        text-align: right;\n",
       "    }\n",
       "</style>\n",
       "<table border=\"1\" class=\"dataframe\">\n",
       "  <thead>\n",
       "    <tr style=\"text-align: right;\">\n",
       "      <th></th>\n",
       "      <th>Date</th>\n",
       "      <th>Month_Num</th>\n",
       "      <th>Weekday</th>\n",
       "      <th>AI_Platform</th>\n",
       "      <th>AI_Model_Version</th>\n",
       "      <th>Active_Users</th>\n",
       "      <th>New_Users</th>\n",
       "      <th>Churned_Users</th>\n",
       "      <th>Daily_Churn_Rate</th>\n",
       "      <th>Retention_Rate</th>\n",
       "      <th>...</th>\n",
       "      <th>Session_Duration_sec</th>\n",
       "      <th>Device_Type</th>\n",
       "      <th>Language</th>\n",
       "      <th>Response_Accuracy</th>\n",
       "      <th>Response_Speed_sec</th>\n",
       "      <th>Response_Time_Category</th>\n",
       "      <th>Correction_Needed</th>\n",
       "      <th>User_Return_Frequency</th>\n",
       "      <th>Customer_Support_Interactions</th>\n",
       "      <th>Region</th>\n",
       "    </tr>\n",
       "  </thead>\n",
       "  <tbody>\n",
       "    <tr>\n",
       "      <th>count</th>\n",
       "      <td>10000</td>\n",
       "      <td>10000.000000</td>\n",
       "      <td>10000</td>\n",
       "      <td>10000</td>\n",
       "      <td>10000</td>\n",
       "      <td>1.000000e+04</td>\n",
       "      <td>10000.000000</td>\n",
       "      <td>10000.000000</td>\n",
       "      <td>10000.000000</td>\n",
       "      <td>1.000000e+04</td>\n",
       "      <td>...</td>\n",
       "      <td>10000.000000</td>\n",
       "      <td>10000</td>\n",
       "      <td>10000</td>\n",
       "      <td>10000</td>\n",
       "      <td>10000.000000</td>\n",
       "      <td>10000</td>\n",
       "      <td>10000.000000</td>\n",
       "      <td>10000.000000</td>\n",
       "      <td>10000.000000</td>\n",
       "      <td>10000</td>\n",
       "    </tr>\n",
       "    <tr>\n",
       "      <th>unique</th>\n",
       "      <td>NaN</td>\n",
       "      <td>NaN</td>\n",
       "      <td>7</td>\n",
       "      <td>2</td>\n",
       "      <td>2</td>\n",
       "      <td>NaN</td>\n",
       "      <td>NaN</td>\n",
       "      <td>NaN</td>\n",
       "      <td>NaN</td>\n",
       "      <td>NaN</td>\n",
       "      <td>...</td>\n",
       "      <td>NaN</td>\n",
       "      <td>4</td>\n",
       "      <td>5</td>\n",
       "      <td>2839</td>\n",
       "      <td>NaN</td>\n",
       "      <td>3</td>\n",
       "      <td>NaN</td>\n",
       "      <td>NaN</td>\n",
       "      <td>NaN</td>\n",
       "      <td>243</td>\n",
       "    </tr>\n",
       "    <tr>\n",
       "      <th>top</th>\n",
       "      <td>NaN</td>\n",
       "      <td>NaN</td>\n",
       "      <td>Friday</td>\n",
       "      <td>ChatGPT</td>\n",
       "      <td>GPT-4-turbo</td>\n",
       "      <td>NaN</td>\n",
       "      <td>NaN</td>\n",
       "      <td>NaN</td>\n",
       "      <td>NaN</td>\n",
       "      <td>NaN</td>\n",
       "      <td>...</td>\n",
       "      <td>NaN</td>\n",
       "      <td>Mobile</td>\n",
       "      <td>de</td>\n",
       "      <td></td>\n",
       "      <td>NaN</td>\n",
       "      <td>Fast</td>\n",
       "      <td>NaN</td>\n",
       "      <td>NaN</td>\n",
       "      <td>NaN</td>\n",
       "      <td>Korea</td>\n",
       "    </tr>\n",
       "    <tr>\n",
       "      <th>freq</th>\n",
       "      <td>NaN</td>\n",
       "      <td>NaN</td>\n",
       "      <td>1677</td>\n",
       "      <td>5076</td>\n",
       "      <td>5076</td>\n",
       "      <td>NaN</td>\n",
       "      <td>NaN</td>\n",
       "      <td>NaN</td>\n",
       "      <td>NaN</td>\n",
       "      <td>NaN</td>\n",
       "      <td>...</td>\n",
       "      <td>NaN</td>\n",
       "      <td>5034</td>\n",
       "      <td>2057</td>\n",
       "      <td>379</td>\n",
       "      <td>NaN</td>\n",
       "      <td>4883</td>\n",
       "      <td>NaN</td>\n",
       "      <td>NaN</td>\n",
       "      <td>NaN</td>\n",
       "      <td>95</td>\n",
       "    </tr>\n",
       "    <tr>\n",
       "      <th>mean</th>\n",
       "      <td>2024-04-24 18:38:09.600000</td>\n",
       "      <td>7.128900</td>\n",
       "      <td>NaN</td>\n",
       "      <td>NaN</td>\n",
       "      <td>NaN</td>\n",
       "      <td>1.196255e+06</td>\n",
       "      <td>100508.750000</td>\n",
       "      <td>35395.150000</td>\n",
       "      <td>0.035228</td>\n",
       "      <td>9.500000e-01</td>\n",
       "      <td>...</td>\n",
       "      <td>28.533700</td>\n",
       "      <td>NaN</td>\n",
       "      <td>NaN</td>\n",
       "      <td>NaN</td>\n",
       "      <td>2.356651</td>\n",
       "      <td>NaN</td>\n",
       "      <td>0.144600</td>\n",
       "      <td>5.530600</td>\n",
       "      <td>1.476800</td>\n",
       "      <td>NaN</td>\n",
       "    </tr>\n",
       "    <tr>\n",
       "      <th>min</th>\n",
       "      <td>2023-07-01 00:00:00</td>\n",
       "      <td>1.000000</td>\n",
       "      <td>NaN</td>\n",
       "      <td>NaN</td>\n",
       "      <td>NaN</td>\n",
       "      <td>2.000000e+05</td>\n",
       "      <td>12500.000000</td>\n",
       "      <td>4000.000000</td>\n",
       "      <td>0.020000</td>\n",
       "      <td>9.500000e-01</td>\n",
       "      <td>...</td>\n",
       "      <td>5.000000</td>\n",
       "      <td>NaN</td>\n",
       "      <td>NaN</td>\n",
       "      <td>NaN</td>\n",
       "      <td>0.330000</td>\n",
       "      <td>NaN</td>\n",
       "      <td>0.000000</td>\n",
       "      <td>1.000000</td>\n",
       "      <td>0.000000</td>\n",
       "      <td>NaN</td>\n",
       "    </tr>\n",
       "    <tr>\n",
       "      <th>25%</th>\n",
       "      <td>2023-12-06 00:00:00</td>\n",
       "      <td>4.000000</td>\n",
       "      <td>NaN</td>\n",
       "      <td>NaN</td>\n",
       "      <td>NaN</td>\n",
       "      <td>6.500000e+05</td>\n",
       "      <td>35000.000000</td>\n",
       "      <td>25000.000000</td>\n",
       "      <td>0.020000</td>\n",
       "      <td>9.500000e-01</td>\n",
       "      <td>...</td>\n",
       "      <td>17.000000</td>\n",
       "      <td>NaN</td>\n",
       "      <td>NaN</td>\n",
       "      <td>NaN</td>\n",
       "      <td>1.250000</td>\n",
       "      <td>NaN</td>\n",
       "      <td>0.000000</td>\n",
       "      <td>3.000000</td>\n",
       "      <td>0.000000</td>\n",
       "      <td>NaN</td>\n",
       "    </tr>\n",
       "    <tr>\n",
       "      <th>50%</th>\n",
       "      <td>2024-05-02 12:00:00</td>\n",
       "      <td>8.000000</td>\n",
       "      <td>NaN</td>\n",
       "      <td>NaN</td>\n",
       "      <td>NaN</td>\n",
       "      <td>9.500000e+05</td>\n",
       "      <td>52500.000000</td>\n",
       "      <td>35000.000000</td>\n",
       "      <td>0.050000</td>\n",
       "      <td>9.500000e-01</td>\n",
       "      <td>...</td>\n",
       "      <td>27.000000</td>\n",
       "      <td>NaN</td>\n",
       "      <td>NaN</td>\n",
       "      <td>NaN</td>\n",
       "      <td>2.070000</td>\n",
       "      <td>NaN</td>\n",
       "      <td>0.000000</td>\n",
       "      <td>6.000000</td>\n",
       "      <td>1.000000</td>\n",
       "      <td>NaN</td>\n",
       "    </tr>\n",
       "    <tr>\n",
       "      <th>75%</th>\n",
       "      <td>2024-09-07 00:00:00</td>\n",
       "      <td>10.000000</td>\n",
       "      <td>NaN</td>\n",
       "      <td>NaN</td>\n",
       "      <td>NaN</td>\n",
       "      <td>1.700000e+06</td>\n",
       "      <td>170000.000000</td>\n",
       "      <td>49000.000000</td>\n",
       "      <td>0.050000</td>\n",
       "      <td>9.500000e-01</td>\n",
       "      <td>...</td>\n",
       "      <td>38.000000</td>\n",
       "      <td>NaN</td>\n",
       "      <td>NaN</td>\n",
       "      <td>NaN</td>\n",
       "      <td>3.450000</td>\n",
       "      <td>NaN</td>\n",
       "      <td>0.000000</td>\n",
       "      <td>8.000000</td>\n",
       "      <td>2.000000</td>\n",
       "      <td>NaN</td>\n",
       "    </tr>\n",
       "    <tr>\n",
       "      <th>max</th>\n",
       "      <td>2025-02-01 00:00:00</td>\n",
       "      <td>12.000000</td>\n",
       "      <td>NaN</td>\n",
       "      <td>NaN</td>\n",
       "      <td>NaN</td>\n",
       "      <td>3.050000e+06</td>\n",
       "      <td>305000.000000</td>\n",
       "      <td>61000.000000</td>\n",
       "      <td>0.050000</td>\n",
       "      <td>9.500000e-01</td>\n",
       "      <td>...</td>\n",
       "      <td>60.000000</td>\n",
       "      <td>NaN</td>\n",
       "      <td>NaN</td>\n",
       "      <td>NaN</td>\n",
       "      <td>5.190000</td>\n",
       "      <td>NaN</td>\n",
       "      <td>1.000000</td>\n",
       "      <td>10.000000</td>\n",
       "      <td>3.000000</td>\n",
       "      <td>NaN</td>\n",
       "    </tr>\n",
       "    <tr>\n",
       "      <th>std</th>\n",
       "      <td>NaN</td>\n",
       "      <td>3.559712</td>\n",
       "      <td>NaN</td>\n",
       "      <td>NaN</td>\n",
       "      <td>NaN</td>\n",
       "      <td>7.444465e+05</td>\n",
       "      <td>85584.077151</td>\n",
       "      <td>14849.189585</td>\n",
       "      <td>0.014999</td>\n",
       "      <td>1.110279e-16</td>\n",
       "      <td>...</td>\n",
       "      <td>14.090348</td>\n",
       "      <td>NaN</td>\n",
       "      <td>NaN</td>\n",
       "      <td>NaN</td>\n",
       "      <td>1.303743</td>\n",
       "      <td>NaN</td>\n",
       "      <td>0.351715</td>\n",
       "      <td>2.867906</td>\n",
       "      <td>1.120887</td>\n",
       "      <td>NaN</td>\n",
       "    </tr>\n",
       "  </tbody>\n",
       "</table>\n",
       "<p>11 rows × 28 columns</p>\n",
       "</div>"
      ],
      "text/plain": [
       "                              Date     Month_Num     Weekday   AI_Platform  \\\n",
       "count                        10000  10000.000000       10000         10000   \n",
       "unique                         NaN           NaN           7             2   \n",
       "top                            NaN           NaN   Friday      ChatGPT       \n",
       "freq                           NaN           NaN        1677          5076   \n",
       "mean    2024-04-24 18:38:09.600000      7.128900         NaN           NaN   \n",
       "min            2023-07-01 00:00:00      1.000000         NaN           NaN   \n",
       "25%            2023-12-06 00:00:00      4.000000         NaN           NaN   \n",
       "50%            2024-05-02 12:00:00      8.000000         NaN           NaN   \n",
       "75%            2024-09-07 00:00:00     10.000000         NaN           NaN   \n",
       "max            2025-02-01 00:00:00     12.000000         NaN           NaN   \n",
       "std                            NaN      3.559712         NaN           NaN   \n",
       "\n",
       "          AI_Model_Version  Active_Users      New_Users  Churned_Users  \\\n",
       "count                10000  1.000000e+04   10000.000000   10000.000000   \n",
       "unique                   2           NaN            NaN            NaN   \n",
       "top      GPT-4-turbo                 NaN            NaN            NaN   \n",
       "freq                  5076           NaN            NaN            NaN   \n",
       "mean                   NaN  1.196255e+06  100508.750000   35395.150000   \n",
       "min                    NaN  2.000000e+05   12500.000000    4000.000000   \n",
       "25%                    NaN  6.500000e+05   35000.000000   25000.000000   \n",
       "50%                    NaN  9.500000e+05   52500.000000   35000.000000   \n",
       "75%                    NaN  1.700000e+06  170000.000000   49000.000000   \n",
       "max                    NaN  3.050000e+06  305000.000000   61000.000000   \n",
       "std                    NaN  7.444465e+05   85584.077151   14849.189585   \n",
       "\n",
       "        Daily_Churn_Rate  Retention_Rate  ... Session_Duration_sec  \\\n",
       "count       10000.000000    1.000000e+04  ...         10000.000000   \n",
       "unique               NaN             NaN  ...                  NaN   \n",
       "top                  NaN             NaN  ...                  NaN   \n",
       "freq                 NaN             NaN  ...                  NaN   \n",
       "mean            0.035228    9.500000e-01  ...            28.533700   \n",
       "min             0.020000    9.500000e-01  ...             5.000000   \n",
       "25%             0.020000    9.500000e-01  ...            17.000000   \n",
       "50%             0.050000    9.500000e-01  ...            27.000000   \n",
       "75%             0.050000    9.500000e-01  ...            38.000000   \n",
       "max             0.050000    9.500000e-01  ...            60.000000   \n",
       "std             0.014999    1.110279e-16  ...            14.090348   \n",
       "\n",
       "            Device_Type   Language   Response_Accuracy  Response_Speed_sec  \\\n",
       "count             10000      10000               10000        10000.000000   \n",
       "unique                4          5                2839                 NaN   \n",
       "top      Mobile           de                                           NaN   \n",
       "freq               5034       2057                 379                 NaN   \n",
       "mean                NaN        NaN                 NaN            2.356651   \n",
       "min                 NaN        NaN                 NaN            0.330000   \n",
       "25%                 NaN        NaN                 NaN            1.250000   \n",
       "50%                 NaN        NaN                 NaN            2.070000   \n",
       "75%                 NaN        NaN                 NaN            3.450000   \n",
       "max                 NaN        NaN                 NaN            5.190000   \n",
       "std                 NaN        NaN                 NaN            1.303743   \n",
       "\n",
       "         Response_Time_Category  Correction_Needed  User_Return_Frequency  \\\n",
       "count                     10000       10000.000000           10000.000000   \n",
       "unique                        3                NaN                    NaN   \n",
       "top      Fast                                  NaN                    NaN   \n",
       "freq                       4883                NaN                    NaN   \n",
       "mean                        NaN           0.144600               5.530600   \n",
       "min                         NaN           0.000000               1.000000   \n",
       "25%                         NaN           0.000000               3.000000   \n",
       "50%                         NaN           0.000000               6.000000   \n",
       "75%                         NaN           0.000000               8.000000   \n",
       "max                         NaN           1.000000              10.000000   \n",
       "std                         NaN           0.351715               2.867906   \n",
       "\n",
       "        Customer_Support_Interactions  Region  \n",
       "count                    10000.000000   10000  \n",
       "unique                            NaN     243  \n",
       "top                               NaN   Korea  \n",
       "freq                              NaN      95  \n",
       "mean                         1.476800     NaN  \n",
       "min                          0.000000     NaN  \n",
       "25%                          0.000000     NaN  \n",
       "50%                          1.000000     NaN  \n",
       "75%                          2.000000     NaN  \n",
       "max                          3.000000     NaN  \n",
       "std                          1.120887     NaN  \n",
       "\n",
       "[11 rows x 28 columns]"
      ]
     },
     "metadata": {},
     "output_type": "display_data"
    }
   ],
   "source": [
    "print(\"Dataset shape:\", df.shape)\n",
    "print(\"\\nFirst 5 rows:\")\n",
    "display(df.head())\n",
    "\n",
    "print(\"\\nLast 3 rows:\")\n",
    "display(df.tail(3))\n",
    "\n",
    "print(\"\\nMissing values:\")\n",
    "print(df.isna().sum())\n",
    "\n",
    "print(\"\\nBasic statistics:\")\n",
    "display(df.describe(include='all'))\n",
    "\n",
    "\n"
   ]
  },
  {
   "cell_type": "code",
   "execution_count": 3,
   "metadata": {},
   "outputs": [
    {
     "name": "stdout",
     "output_type": "stream",
     "text": [
      "['Date', ' Month_Num', ' Weekday  ', ' AI_Platform', ' AI_Model_Version ', ' Active_Users', ' New_Users', ' Churned_Users', ' Daily_Churn_Rate', ' Retention_Rate', ' User_ID                             ', ' Query_Type', ' Input_Text                                       ', ' Input_Text_Length', ' Response_Tokens', ' Topic_Category       ', ' User_Rating', ' User_Experience_Score', ' Session_Duration_sec', ' Device_Type   ', ' Language', ' Response_Accuracy', ' Response_Speed_sec', ' Response_Time_Category', ' Correction_Needed', ' User_Return_Frequency', ' Customer_Support_Interactions', ' Region']\n"
     ]
    }
   ],
   "source": [
    "# Convert date to datetime format\n",
    "print(df.columns.tolist())\n",
    "df.rename(columns={'WhateverItIs': 'Date'}, inplace=True)\n",
    "df['Date'] = pd.to_datetime(df['Date'])\n"
   ]
  },
  {
   "cell_type": "markdown",
   "metadata": {},
   "source": [
    "##  Data Reshaping (Wide to Long Format)\n",
    "\n",
    "To simplify analysis, we reshape the dataset using `pd.melt()`. This transforms multiple metric columns into a single column while keeping the associated platform information.\n"
   ]
  },
  {
   "cell_type": "code",
   "execution_count": 41,
   "metadata": {},
   "outputs": [
    {
     "name": "stdout",
     "output_type": "stream",
     "text": [
      "    AI_Platform       Metric Value\n",
      "0   ChatGPT      User_Rating     4\n",
      "1   ChatGPT      User_Rating     4\n",
      "2   ChatGPT      User_Rating     3\n",
      "3   ChatGPT      User_Rating     5\n",
      "4   DeepSeek     User_Rating     5\n"
     ]
    }
   ],
   "source": [
    "# Reshape from wide to long format\n",
    "df_long = pd.melt(\n",
    "    df,\n",
    "    id_vars='AI_Platform',\n",
    "    value_vars=['User_Rating', 'Response_Accuracy'],\n",
    "    var_name='Metric',\n",
    "    value_name='Value'\n",
    ")\n",
    "\n",
    "# Display the reshaped DataFrame\n",
    "print(df_long.head())\n",
    "\n"
   ]
  },
  {
   "cell_type": "code",
   "execution_count": 5,
   "metadata": {},
   "outputs": [
    {
     "name": "stdout",
     "output_type": "stream",
     "text": [
      "Square root: [158.13 158.13 158.13 158.13 412.32 412.32 412.32 412.32 412.32 412.32]\n",
      "Multiplication: [ 50010  50010  50010  50010 340010 340010 340010 340010 340010 340010]\n",
      "Division: [12500. 12500. 12500. 12500. 17000. 17000. 17000. 17000. 17000. 17000.]\n",
      "Exponential: [1.01e+304 1.01e+304 1.01e+304 1.01e+304 1.01e+304 1.01e+304 1.01e+304\n",
      " 1.01e+304 1.01e+304 1.01e+304]\n",
      "Logarithm: [10.13 10.13 10.13 10.13 12.04 12.04 12.04 12.04 12.04 12.04]\n",
      "Sine of speed: [0.34 0.34 0.34 0.34 0.34 0.34 0.34 0.34 0.34 0.34]\n",
      "Cosine of attack: [-0.97 -0.97 -0.97 -0.97  0.09  0.09  0.09  0.09  0.09  0.09]\n",
      "Absolute HP: [ 500000  500000  500000  500000 1700000 1700000 1700000 1700000 1700000\n",
      " 1700000]\n",
      "Rounded attack: [ 25005  25005  25005  25005 170005 170005 170005 170005 170005 170005]\n",
      "HP > 300: [ True  True  True  True  True  True  True  True  True  True]\n",
      "HP < 100: [False False False False False False False False False False]\n",
      "Speed == 50: [False False False False False False False False False False]\n"
     ]
    }
   ],
   "source": [
    "import numpy as np\n",
    "\n",
    "# Use these arrays as examples or replace them with your actual arrays\n",
    "attack_array = np.array([25005, 25005, 25005, 25005, 170005, 170005, 170005, 170005, 170005, 170005])\n",
    "speed_array = np.array([25000, 25000, 25000, 25000, 34000, 34000, 34000, 34000, 34000, 34000])\n",
    "hp_array = np.array([500000, 500000, 500000, 500000, 1700000, 1700000, 1700000, 1700000, 1700000, 1700000])\n",
    "\n",
    "np.set_printoptions(precision=2, suppress=True)\n",
    "\n",
    "# Display only 10 values explicitly\n",
    "print(\"Square root:\", np.sqrt(attack_array))\n",
    "print(\"Multiplication:\", np.multiply(attack_array, 2))\n",
    "print(\"Division:\", np.divide(speed_array, 2))\n",
    "print(\"Exponential:\", np.exp(np.clip(hp_array, None, 700)))  # Clip to prevent overflow\n",
    "print(\"Logarithm:\", np.log(attack_array + 1))\n",
    "print(\"Sine of speed:\", np.sin(np.radians(speed_array)))\n",
    "print(\"Cosine of attack:\", np.cos(np.radians(attack_array)))\n",
    "print(\"Absolute HP:\", np.abs(hp_array))\n",
    "print(\"Rounded attack:\", np.round(attack_array))\n",
    "print(\"HP > 300:\", np.greater(hp_array, 300))\n",
    "print(\"HP < 100:\", np.less(hp_array, 100))\n",
    "print(\"Speed == 50:\", np.equal(speed_array, 50))\n",
    "\n",
    "\n"
   ]
  },
  {
   "cell_type": "code",
   "execution_count": null,
   "metadata": {},
   "outputs": [
    {
     "name": "stdout",
     "output_type": "stream",
     "text": [
      "Total HP: 11962550000\n",
      "Mean Attack: 100508.75\n",
      "Median Speed: 35000.0\n",
      "Std HP: 744409.3127943793\n",
      "Variance Attack: 7323901798.4375\n",
      "Min Speed: 4000\n",
      "Max Speed: 61000\n",
      "Cumulative HP Sum: [     500000     1000000     1500000 ... 11959150000 11960850000\n",
      " 11962550000]\n"
     ]
    }
   ],
   "source": [
    "# Aggregations\n",
    "print(\"Total HP:\", np.sum(hp_array))\n",
    "print(\"Mean Attack:\", np.mean(attack_array))\n",
    "print(\"Median Speed:\", np.median(speed_array))\n",
    "print(\"Std HP:\", np.std(hp_array))\n",
    "print(\"Variance Attack:\", np.var(attack_array))\n",
    "print(\"Min Speed:\", np.min(speed_array))\n",
    "print(\"Max Speed:\", np.max(speed_array))\n",
    "print(\"Cumulative HP Sum:\", np.cumsum(hp_array))\n",
    "\n",
    "\n"
   ]
  },
  {
   "cell_type": "code",
   "execution_count": null,
   "metadata": {},
   "outputs": [
    {
     "name": "stdout",
     "output_type": "stream",
     "text": [
      "            Date  Month_Num   Weekday AI_Platform   AI_Model_Version  \\\n",
      "5783  2025-02-01          2  Saturday    DeepSeek  DeepSeek-Chat 1.5   \n",
      "4478  2023-07-28          7    Friday     ChatGPT        GPT-4-turbo   \n",
      "4538  2023-07-14          7    Friday     ChatGPT        GPT-4-turbo   \n",
      "4537  2023-07-14          7    Friday     ChatGPT        GPT-4-turbo   \n",
      "4535  2023-07-14          7    Friday     ChatGPT        GPT-4-turbo   \n",
      "\n",
      "      Active_Users  New_Users  Churned_Users  Daily_Churn_Rate  \\\n",
      "5783       3050000     305000          61000              0.02   \n",
      "4478       1200000      60000          60000              0.05   \n",
      "4538       1200000      60000          60000              0.05   \n",
      "4537       1200000      60000          60000              0.05   \n",
      "4535       1200000      60000          60000              0.05   \n",
      "\n",
      "      Retention_Rate  ... Session_Duration_sec     Device_Type Language  \\\n",
      "5783            0.95  ...                   60          Mobile       de   \n",
      "4478            0.95  ...                   14  Laptop/Desktop       fr   \n",
      "4538            0.95  ...                   23          Mobile       fr   \n",
      "4537            0.95  ...                   14          Mobile       zh   \n",
      "4535            0.95  ...                    7   Smart Speaker       es   \n",
      "\n",
      "      Response_Accuracy  Response_Speed_sec Response_Time_Category  \\\n",
      "5783             0.8714                1.67                   Fast   \n",
      "4478             0.8727                4.29               Standard   \n",
      "4538             0.7359                4.46               Standard   \n",
      "4537             0.7347                4.56               Standard   \n",
      "4535             0.7080                4.60               Standard   \n",
      "\n",
      "      Correction_Needed  User_Return_Frequency  Customer_Support_Interactions  \\\n",
      "5783                  0                      8                              2   \n",
      "4478                  0                      9                              2   \n",
      "4538                  0                      3                              2   \n",
      "4537                  0                      8                              2   \n",
      "4535                  0                      9                              1   \n",
      "\n",
      "                    Region  \n",
      "5783               Belgium  \n",
      "4478                Cyprus  \n",
      "4538            Kazakhstan  \n",
      "4537  Syrian Arab Republic  \n",
      "4535                Brazil  \n",
      "\n",
      "[5 rows x 28 columns]\n"
     ]
    }
   ],
   "source": [
    "# Sort and ranking\n",
    "df_sorted_speed = df.sort_values(\"Churned_Users\", ascending=False)\n",
    "print(df_sorted_speed.head())\n"
   ]
  },
  {
   "cell_type": "code",
   "execution_count": null,
   "metadata": {},
   "outputs": [
    {
     "name": "stdout",
     "output_type": "stream",
     "text": [
      "Top 5 fastest churn: [60000 60000 60000 60000 61000]\n"
     ]
    }
   ],
   "source": [
    "sorted_indices = np.argsort(attack_array)\n",
    "top_5_fastest = np.partition(speed_array, -5)[-5:]\n",
    "print(\"Top 5 fastest churn:\", top_5_fastest)\n"
   ]
  },
  {
   "cell_type": "code",
   "execution_count": null,
   "metadata": {},
   "outputs": [
    {
     "name": "stdout",
     "output_type": "stream",
     "text": [
      "[ 25005  25005  25005 ... 170005 170005 170005]\n"
     ]
    }
   ],
   "source": [
    "\n",
    "# Broadcasting\n",
    "attack_array += 5\n",
    "print(attack_array)"
   ]
  },
  {
   "cell_type": "code",
   "execution_count": null,
   "metadata": {},
   "outputs": [
    {
     "name": "stdout",
     "output_type": "stream",
     "text": [
      "         Date  Month_Num   Weekday AI_Platform   AI_Model_Version  \\\n",
      "0  2024-09-21          9  Saturday     ChatGPT        GPT-4-turbo   \n",
      "1  2024-09-21          9  Saturday     ChatGPT        GPT-4-turbo   \n",
      "2  2024-09-21          9  Saturday     ChatGPT        GPT-4-turbo   \n",
      "3  2024-09-21          9  Saturday     ChatGPT        GPT-4-turbo   \n",
      "4  2024-05-16          5  Thursday    DeepSeek  DeepSeek-Chat 1.5   \n",
      "\n",
      "   Active_Users  New_Users  Churned_Users  Daily_Churn_Rate  Retention_Rate  \\\n",
      "0        500000      25005          25000              0.05            0.95   \n",
      "1        500000      25005          25000              0.05            0.95   \n",
      "2        500000      25005          25000              0.05            0.95   \n",
      "3        500000      25005          25000              0.05            0.95   \n",
      "4       1700000     170005          34000              0.02            0.95   \n",
      "\n",
      "   ... Session_Duration_sec     Device_Type Language  Response_Accuracy  \\\n",
      "0  ...                   40          Mobile       es             0.7842   \n",
      "1  ...                   24  Laptop/Desktop       zh             0.8194   \n",
      "2  ...                   34          Mobile       en             0.8090   \n",
      "3  ...                   18          Mobile       fr             0.8233   \n",
      "4  ...                   10          Mobile       de             0.9366   \n",
      "\n",
      "   Response_Speed_sec Response_Time_Category  Correction_Needed  \\\n",
      "0                3.30               Standard                  0   \n",
      "1                3.28               Standard                  1   \n",
      "2                3.07               Standard                  0   \n",
      "3                3.06               Standard                  0   \n",
      "4                1.48                   Fast                  0   \n",
      "\n",
      "   User_Return_Frequency  Customer_Support_Interactions  \\\n",
      "0                      6                              2   \n",
      "1                      2                              2   \n",
      "2                      2                              0   \n",
      "3                      9                              0   \n",
      "4                      9                              3   \n",
      "\n",
      "                                         Region  \n",
      "0  Antarctica (the territory South of 60 deg S)  \n",
      "1                                       Ukraine  \n",
      "2                                       Grenada  \n",
      "3                                        Guyana  \n",
      "4                                         India  \n",
      "\n",
      "[5 rows x 28 columns]\n"
     ]
    }
   ],
   "source": [
    "# Boolean Masking\n",
    "high_hp = df[df[\"Active_Users\"] > 100000]\n",
    "print(high_hp.head())"
   ]
  },
  {
   "cell_type": "code",
   "execution_count": null,
   "metadata": {},
   "outputs": [
    {
     "name": "stdout",
     "output_type": "stream",
     "text": [
      "          Date  Month_Num   Weekday AI_Platform   AI_Model_Version  \\\n",
      "0   2024-09-21          9  Saturday     ChatGPT        GPT-4-turbo   \n",
      "5   2024-05-16          5  Thursday    DeepSeek  DeepSeek-Chat 1.5   \n",
      "10  2024-05-16          5  Thursday    DeepSeek  DeepSeek-Chat 1.5   \n",
      "\n",
      "    Active_Users  New_Users  Churned_Users  Daily_Churn_Rate  Retention_Rate  \\\n",
      "0         500000      25005          25000              0.05            0.95   \n",
      "5        1700000     170005          34000              0.02            0.95   \n",
      "10       1700000     170005          34000              0.02            0.95   \n",
      "\n",
      "    ... Session_Duration_sec Device_Type Language  Response_Accuracy  \\\n",
      "0   ...                   40      Mobile       es             0.7842   \n",
      "5   ...                   18      Mobile       de             0.8992   \n",
      "10  ...                   20      Mobile       es             0.8947   \n",
      "\n",
      "    Response_Speed_sec Response_Time_Category  Correction_Needed  \\\n",
      "0                 3.30               Standard                  0   \n",
      "5                 1.80                   Fast                  0   \n",
      "10                1.54                   Fast                  1   \n",
      "\n",
      "    User_Return_Frequency  Customer_Support_Interactions  \\\n",
      "0                       6                              2   \n",
      "5                       5                              2   \n",
      "10                      7                              0   \n",
      "\n",
      "                                          Region  \n",
      "0   Antarctica (the territory South of 60 deg S)  \n",
      "5                                         Sweden  \n",
      "10                                       Ukraine  \n",
      "\n",
      "[3 rows x 28 columns]\n"
     ]
    }
   ],
   "source": [
    "# Fancy Indexing\n",
    "print(df.iloc[[0, 5, 10]])"
   ]
  },
  {
   "cell_type": "code",
   "execution_count": null,
   "metadata": {},
   "outputs": [
    {
     "name": "stdout",
     "output_type": "stream",
     "text": [
      "[('c878a177-2da9-4224-8cf8-1d56a1c6a755', 'ChatGPT',  500000)\n",
      " ('7096d0f1-d0dc-4333-a5d0-de9dfd1b99fa', 'ChatGPT',  500000)\n",
      " ('e690c254-582f-49c1-89c3-0b4dd8ee59be', 'ChatGPT',  500000)\n",
      " ('0b6a010d-9d03-44c4-bf7f-7f8d2cc461e2', 'ChatGPT',  500000)\n",
      " ('ffa90616-1fa9-48ff-842d-e84e193c64f4', 'DeepSeek', 1700000)]\n"
     ]
    }
   ],
   "source": [
    "import numpy as np\n",
    "\n",
    "structured_array = np.array(\n",
    "    list(zip(df[\"User_ID\"], df[\"AI_Platform\"], df[\"Active_Users\"])),\n",
    "    dtype=[(\"ID\", \"U50\"), (\"Platform\", \"U20\"), (\"HP\", \"i4\")]\n",
    ")\n",
    "\n",
    "print(structured_array[:5])"
   ]
  },
  {
   "cell_type": "markdown",
   "metadata": {},
   "source": [
    "## Pandas Operations: \n",
    "1. Pandas Series\n",
    "2. Pandas DataFrame\n",
    "3. Indexing and Selecting\n",
    "4. Index Alignment and Operations\n",
    "5. Handling Missing data\n",
    "6. Heirarchial Indexing "
   ]
  },
  {
   "cell_type": "code",
   "execution_count": null,
   "metadata": {},
   "outputs": [
    {
     "name": "stdout",
     "output_type": "stream",
     "text": [
      "0     500000\n",
      "1     500000\n",
      "2     500000\n",
      "3     500000\n",
      "4    1700000\n",
      "Name: Active_Users, dtype: int64\n"
     ]
    }
   ],
   "source": [
    "\n",
    "# Convert HP column to Series\n",
    "hp_series = pd.Series(df[\"Active_Users\"])\n",
    "print(hp_series.head())\n",
    "\n"
   ]
  },
  {
   "cell_type": "code",
   "execution_count": null,
   "metadata": {},
   "outputs": [],
   "source": [
    "\n",
    "# Arithmetic\n",
    "df[\"attack_boosted\"] = df[\"New_Users\"] + 10\n",
    "df[\"speed_halved\"] = df[\"Churned_Users\"] / 2\n"
   ]
  },
  {
   "cell_type": "code",
   "execution_count": null,
   "metadata": {},
   "outputs": [
    {
     "name": "stdout",
     "output_type": "stream",
     "text": [
      "Total New Users: 1005137500\n",
      "Average Churned Users: 35395.15\n",
      "Minimum Active Users: 200000\n",
      "Maximum Experience Score: 2.28\n",
      "\n",
      "User count per AI Platform:\n",
      " AI_Platform\n",
      "ChatGPT     5076\n",
      "DeepSeek    4924\n",
      "Name: count, dtype: int64\n"
     ]
    }
   ],
   "source": [
    "# operations on series\n",
    "print(\"Total New Users:\", df[\"New_Users\"].sum())            # total attack → total new users\n",
    "print(\"Average Churned Users:\", df[\"Churned_Users\"].mean()) # avg speed → avg churn\n",
    "print(\"Minimum Active Users:\", df[\"Active_Users\"].min())     # min hp → min active users\n",
    "print(\"Maximum Experience Score:\", df[\"User_Experience_Score\"].max())  # max defense\n",
    "print(\"\\nUser count per AI Platform:\\n\", df[\"AI_Platform\"].value_counts())  # count per type\n",
    "\n"
   ]
  },
  {
   "cell_type": "code",
   "execution_count": null,
   "metadata": {},
   "outputs": [],
   "source": [
    "# Apply function\n",
    "df[\"attack_modified\"] = df[\"New_Users\"].apply(lambda x: x * 1.2 if x > 100000 else x)\n"
   ]
  },
  {
   "cell_type": "code",
   "execution_count": null,
   "metadata": {},
   "outputs": [
    {
     "name": "stdout",
     "output_type": "stream",
     "text": [
      "1005137500\n",
      "35395.15\n",
      "200000\n",
      "0.95\n",
      "AI_Platform\n",
      "ChatGPT     5076\n",
      "DeepSeek    4924\n",
      "Name: count, dtype: int64\n"
     ]
    }
   ],
   "source": [
    "print(df[\"New_Users\"].sum())\n",
    "print(df[\"Churned_Users\"].mean())\n",
    "print(df[\"Active_Users\"].min())\n",
    "print(df[\"Retention_Rate\"].max())\n",
    "print(df[\"AI_Platform\"].value_counts())\n"
   ]
  },
  {
   "cell_type": "code",
   "execution_count": null,
   "metadata": {},
   "outputs": [
    {
     "name": "stdout",
     "output_type": "stream",
     "text": [
      "0    7049.0\n",
      "1    7049.0\n",
      "2    7049.0\n",
      "3    7049.0\n",
      "4    5184.0\n",
      "Name: speed_rank, dtype: float64\n"
     ]
    }
   ],
   "source": [
    "\n",
    "# Sorting and Ranking\n",
    "df[\"speed_rank\"] = df[\"Churned_Users\"].rank(method=\"min\", ascending=False)\n",
    "print(df[\"speed_rank\"].head())"
   ]
  },
  {
   "cell_type": "code",
   "execution_count": null,
   "metadata": {},
   "outputs": [],
   "source": [
    "# Fill missing values\n",
    "df.update(df[[\"New_Users\"]].fillna(df[\"New_Users\"].mean()))\n",
    "df.dropna(subset=[\"Churned_Users\"], inplace=True)\n"
   ]
  },
  {
   "cell_type": "code",
   "execution_count": null,
   "metadata": {},
   "outputs": [
    {
     "name": "stdout",
     "output_type": "stream",
     "text": [
      "  AI_Platform   AI_Model_Version  Active_Users\n",
      "0     ChatGPT        GPT-4-turbo        500000\n",
      "1     ChatGPT        GPT-4-turbo        500000\n",
      "2     ChatGPT        GPT-4-turbo        500000\n",
      "3     ChatGPT        GPT-4-turbo        500000\n",
      "4    DeepSeek  DeepSeek-Chat 1.5       1700000\n"
     ]
    }
   ],
   "source": [
    "# DataFrame subset\n",
    "subset_df = df[[\"AI_Platform\", \"AI_Model_Version\", \"Active_Users\"]]\n",
    "print(subset_df.head())\n"
   ]
  },
  {
   "cell_type": "code",
   "execution_count": null,
   "metadata": {},
   "outputs": [
    {
     "name": "stdout",
     "output_type": "stream",
     "text": [
      "   Month_Num  Active_Users  New_Users  Churned_Users  Daily_Churn_Rate  \\\n",
      "0         18       1000000      50010          50000              0.10   \n",
      "1         18       1000000      50010          50000              0.10   \n",
      "2         18       1000000      50010          50000              0.10   \n",
      "3         18       1000000      50010          50000              0.10   \n",
      "4         10       3400000     340010          68000              0.04   \n",
      "\n",
      "   Retention_Rate  Input_Text_Length  Response_Tokens  User_Rating  \\\n",
      "0             1.9                 14              560            8   \n",
      "1             1.9                 14              160            8   \n",
      "2             1.9                 16              262            6   \n",
      "3             1.9                 14              852           10   \n",
      "4             1.9                 12              430           10   \n",
      "\n",
      "   User_Experience_Score  ...  Response_Accuracy  Response_Speed_sec  \\\n",
      "0                   2.56  ...             1.5684                6.60   \n",
      "1                   2.56  ...             1.6388                6.56   \n",
      "2                   1.76  ...             1.6180                6.14   \n",
      "3                   3.36  ...             1.6466                6.12   \n",
      "4                   4.08  ...             1.8732                2.96   \n",
      "\n",
      "   Correction_Needed  User_Return_Frequency  Customer_Support_Interactions  \\\n",
      "0                  0                     12                              4   \n",
      "1                  2                      4                              4   \n",
      "2                  0                      4                              0   \n",
      "3                  0                     18                              0   \n",
      "4                  0                     18                              6   \n",
      "\n",
      "   attack_boosted  speed_halved  attack_modified  speed_rank  total_stats  \n",
      "0           50030       25000.0          50010.0     14098.0      1100010  \n",
      "1           50030       25000.0          50010.0     14098.0      1100010  \n",
      "2           50030       25000.0          50010.0     14098.0      1100010  \n",
      "3           50030       25000.0          50010.0     14098.0      1100010  \n",
      "4          340030       34000.0         408012.0     10368.0      3808010  \n",
      "\n",
      "[5 rows x 21 columns]\n"
     ]
    }
   ],
   "source": [
    "# New column\n",
    "df[\"total_stats\"] = df[\"New_Users\"] + df[\"Churned_Users\"] + df[\"Active_Users\"]\n",
    "\n",
    "# Multiply numeric only\n",
    "df_numeric = df.select_dtypes(include=\"number\")\n",
    "df_doubled = df_numeric * 2\n",
    "print(df_doubled.head())"
   ]
  },
  {
   "cell_type": "code",
   "execution_count": null,
   "metadata": {},
   "outputs": [
    {
     "name": "stdout",
     "output_type": "stream",
     "text": [
      "AI_Platform\n",
      "ChatGPT      37666.052009\n",
      "DeepSeek    165301.506905\n",
      "Name: New_Users, dtype: float64\n"
     ]
    }
   ],
   "source": [
    "\n",
    "# Group by and aggregation\n",
    "type_attack = df.groupby(\"AI_Platform\")[\"New_Users\"].mean()\n",
    "print(type_attack)"
   ]
  },
  {
   "cell_type": "code",
   "execution_count": null,
   "metadata": {},
   "outputs": [
    {
     "name": "stdout",
     "output_type": "stream",
     "text": [
      "AI_Platform\n",
      "ChatGPT     60000\n",
      "DeepSeek    61000\n",
      "Name: Churned_Users, dtype: int64\n"
     ]
    }
   ],
   "source": [
    "\n",
    "type_speed = df.groupby(\"AI_Platform\")[\"Churned_Users\"].max()\n",
    "print(type_speed)\n"
   ]
  },
  {
   "cell_type": "code",
   "execution_count": null,
   "metadata": {},
   "outputs": [
    {
     "name": "stdout",
     "output_type": "stream",
     "text": [
      "            Date  Month_Num   Weekday AI_Platform   AI_Model_Version  \\\n",
      "5783  2025-02-01          2  Saturday    DeepSeek  DeepSeek-Chat 1.5   \n",
      "69    2025-01-12          1    Sunday    DeepSeek  DeepSeek-Chat 1.5   \n",
      "70    2025-01-12          1    Sunday    DeepSeek  DeepSeek-Chat 1.5   \n",
      "71    2025-01-12          1    Sunday    DeepSeek  DeepSeek-Chat 1.5   \n",
      "72    2025-01-12          1    Sunday    DeepSeek  DeepSeek-Chat 1.5   \n",
      "\n",
      "      Active_Users  New_Users  Churned_Users  Daily_Churn_Rate  \\\n",
      "5783       3050000     305005          61000              0.02   \n",
      "69         2900000     290005          58000              0.02   \n",
      "70         2900000     290005          58000              0.02   \n",
      "71         2900000     290005          58000              0.02   \n",
      "72         2900000     290005          58000              0.02   \n",
      "\n",
      "      Retention_Rate  ... Response_Time_Category Correction_Needed  \\\n",
      "5783            0.95  ...                   Fast                 0   \n",
      "69              0.95  ...                   Fast                 0   \n",
      "70              0.95  ...                   Fast                 0   \n",
      "71              0.95  ...                   Fast                 1   \n",
      "72              0.95  ...                   Fast                 1   \n",
      "\n",
      "     User_Return_Frequency  Customer_Support_Interactions    Region  \\\n",
      "5783                     8                              2   Belgium   \n",
      "69                       3                              1   Lebanon   \n",
      "70                       3                              3     Italy   \n",
      "71                       3                              1  Guernsey   \n",
      "72                       8                              2     Nepal   \n",
      "\n",
      "     attack_boosted  speed_halved  attack_modified  speed_rank total_stats  \n",
      "5783         305015       30500.0         366006.0         1.0     3416005  \n",
      "69           290015       29000.0         348006.0       231.0     3248005  \n",
      "70           290015       29000.0         348006.0       231.0     3248005  \n",
      "71           290015       29000.0         348006.0       231.0     3248005  \n",
      "72           290015       29000.0         348006.0       231.0     3248005  \n",
      "\n",
      "[5 rows x 33 columns]\n"
     ]
    }
   ],
   "source": [
    "\n",
    "# Sort\n",
    "df_sorted = df.sort_values(by=[\"New_Users\", \"Churned_Users\"], ascending=[False, True])\n",
    "print(df_sorted.head())\n"
   ]
  },
  {
   "cell_type": "code",
   "execution_count": null,
   "metadata": {},
   "outputs": [
    {
     "name": "stdout",
     "output_type": "stream",
     "text": [
      "   speed_modified  power_score\n",
      "0           25000        50005\n",
      "1           25000        50005\n",
      "2           25000        50005\n",
      "3           25000        50005\n",
      "4           34000       204005\n"
     ]
    }
   ],
   "source": [
    "# Apply functions\n",
    "df[\"speed_modified\"] = df[\"Churned_Users\"].apply(lambda x: x * 1.5 if x > 80000 else x)\n",
    "df[\"power_score\"] = df.apply(lambda row: row[\"New_Users\"] + row[\"Churned_Users\"], axis=1)\n",
    "print(df[[\"speed_modified\", \"power_score\"]].head())\n"
   ]
  },
  {
   "cell_type": "code",
   "execution_count": null,
   "metadata": {},
   "outputs": [
    {
     "name": "stdout",
     "output_type": "stream",
     "text": [
      "\n",
      "Missing values:\n",
      " Date                               0\n",
      "Month_Num                          0\n",
      "Weekday                            0\n",
      "AI_Platform                        0\n",
      "AI_Model_Version                   0\n",
      "Active_Users                       0\n",
      "New_Users                          0\n",
      "Churned_Users                      0\n",
      "Daily_Churn_Rate                   0\n",
      "Retention_Rate                     0\n",
      "User_ID                            0\n",
      "Query_Type                         0\n",
      "Input_Text                         0\n",
      "Input_Text_Length                  0\n",
      "Response_Tokens                    0\n",
      "Topic_Category                     0\n",
      "User_Rating                        0\n",
      "User_Experience_Score              0\n",
      "Session_Duration_sec               0\n",
      "Device_Type                        0\n",
      "Language                           0\n",
      "Response_Accuracy                379\n",
      "Response_Speed_sec                 0\n",
      "Response_Time_Category             0\n",
      "Correction_Needed                  0\n",
      "User_Return_Frequency              0\n",
      "Customer_Support_Interactions      0\n",
      "Region                             0\n",
      "attack_boosted                     0\n",
      "speed_halved                       0\n",
      "attack_modified                    0\n",
      "speed_rank                         0\n",
      "total_stats                        0\n",
      "speed_modified                     0\n",
      "power_score                        0\n",
      "dtype: int64\n"
     ]
    }
   ],
   "source": [
    "# Check nulls\n",
    "print(\"\\nMissing values:\\n\", df.isnull().sum())"
   ]
  },
  {
   "cell_type": "code",
   "execution_count": null,
   "metadata": {},
   "outputs": [
    {
     "name": "stdout",
     "output_type": "stream",
     "text": [
      "\n",
      "Filled missing New_Users:\n",
      "   AI_Platform  New_Users\n",
      "0     ChatGPT      25005\n",
      "1     ChatGPT      25005\n",
      "2     ChatGPT      25005\n",
      "3     ChatGPT      25005\n",
      "4    DeepSeek     170005\n"
     ]
    }
   ],
   "source": [
    "# Fill missing attack (New_Users)\n",
    "df[\"New_Users\"] = df[\"New_Users\"].fillna(df[\"New_Users\"].mean())\n",
    "print(\"\\nFilled missing New_Users:\\n\", df[[\"AI_Platform\", \"New_Users\"]].head())"
   ]
  },
  {
   "cell_type": "markdown",
   "metadata": {},
   "source": [
    "# Combining Datasets: \n",
    "1. Concatenation\n",
    "2. Merging\n",
    "3. Joins\n",
    "4. Aggregation and Grouping\n",
    "5. Pivot Tables\n"
   ]
  },
  {
   "cell_type": "code",
   "execution_count": null,
   "metadata": {},
   "outputs": [
    {
     "name": "stdout",
     "output_type": "stream",
     "text": [
      "             Date  Month_Num Weekday AI_Platform   AI_Model_Version  \\\n",
      "9997   2024-05-17        5.0  Friday    DeepSeek  DeepSeek-Chat 1.5   \n",
      "9998   2024-05-17        5.0  Friday    DeepSeek  DeepSeek-Chat 1.5   \n",
      "9999   2024-05-17        5.0  Friday    DeepSeek  DeepSeek-Chat 1.5   \n",
      "10000         NaN        NaN     NaN      NeoBot                1.0   \n",
      "10001         NaN        NaN     NaN     SynthAI                2.0   \n",
      "\n",
      "       Active_Users  New_Users  Churned_Users  Daily_Churn_Rate  \\\n",
      "9997        1700000     170005        34000.0              0.02   \n",
      "9998        1700000     170005        34000.0              0.02   \n",
      "9999        1700000     170005        34000.0              0.02   \n",
      "10000        100000      20000            NaN               NaN   \n",
      "10001        200000      30000            NaN               NaN   \n",
      "\n",
      "       Retention_Rate  ... User_Return_Frequency  \\\n",
      "9997             0.95  ...                  10.0   \n",
      "9998             0.95  ...                   5.0   \n",
      "9999             0.95  ...                   7.0   \n",
      "10000             NaN  ...                   NaN   \n",
      "10001             NaN  ...                   NaN   \n",
      "\n",
      "      Customer_Support_Interactions           Region  attack_boosted  \\\n",
      "9997                            2.0         Ethiopia        170015.0   \n",
      "9998                            3.0      Puerto Rico        170015.0   \n",
      "9999                            1.0  Kyrgyz Republic        170015.0   \n",
      "10000                           NaN              NaN             NaN   \n",
      "10001                           NaN              NaN             NaN   \n",
      "\n",
      "       speed_halved attack_modified  speed_rank  total_stats  speed_modified  \\\n",
      "9997        17000.0        204006.0      5184.0    1904005.0         34000.0   \n",
      "9998        17000.0        204006.0      5184.0    1904005.0         34000.0   \n",
      "9999        17000.0        204006.0      5184.0    1904005.0         34000.0   \n",
      "10000           NaN             NaN         NaN          NaN             NaN   \n",
      "10001           NaN             NaN         NaN          NaN             NaN   \n",
      "\n",
      "      power_score  \n",
      "9997     204005.0  \n",
      "9998     204005.0  \n",
      "9999     204005.0  \n",
      "10000         NaN  \n",
      "10001         NaN  \n",
      "\n",
      "[5 rows x 35 columns]\n"
     ]
    }
   ],
   "source": [
    "# Concatenation\n",
    "new_data = pd.DataFrame({\n",
    "    \"AI_Platform\": [\"NeoBot\", \"SynthAI\"],\n",
    "    \"AI_Model_Version\": [\"1.0\", \"2.0\"],\n",
    "    \"Active_Users\": [100000, 200000],\n",
    "    \"New_Users\": [20000, 30000]\n",
    "})\n",
    "df_combined = pd.concat([df, new_data], ignore_index=True)\n",
    "print(df_combined.tail())\n",
    "\n"
   ]
  },
  {
   "cell_type": "code",
   "execution_count": null,
   "metadata": {},
   "outputs": [
    {
     "name": "stdout",
     "output_type": "stream",
     "text": [
      "\n",
      "Merged Extra Data:\n",
      "          Date  Month_Num   Weekday AI_Platform AI_Model_Version  Active_Users  \\\n",
      "0  2024-09-21          9  Saturday     ChatGPT      GPT-4-turbo        500000   \n",
      "1  2024-09-21          9  Saturday     ChatGPT      GPT-4-turbo        500000   \n",
      "2  2024-09-21          9  Saturday     ChatGPT      GPT-4-turbo        500000   \n",
      "3  2024-09-21          9  Saturday     ChatGPT      GPT-4-turbo        500000   \n",
      "4  2024-09-21          9  Saturday     ChatGPT      GPT-4-turbo        500000   \n",
      "\n",
      "   New_Users  Churned_Users  Daily_Churn_Rate  Retention_Rate  ...  \\\n",
      "0      25005          25000              0.05            0.95  ...   \n",
      "1      25005          25000              0.05            0.95  ...   \n",
      "2      25005          25000              0.05            0.95  ...   \n",
      "3      25005          25000              0.05            0.95  ...   \n",
      "4      25005          25000              0.05            0.95  ...   \n",
      "\n",
      "  Customer_Support_Interactions                                        Region  \\\n",
      "0                             2  Antarctica (the territory South of 60 deg S)   \n",
      "1                             2  Antarctica (the territory South of 60 deg S)   \n",
      "2                             2  Antarctica (the territory South of 60 deg S)   \n",
      "3                             2  Antarctica (the territory South of 60 deg S)   \n",
      "4                             2                                       Ukraine   \n",
      "\n",
      "  attack_boosted  speed_halved  attack_modified speed_rank  total_stats  \\\n",
      "0          25015       12500.0          25005.0     7049.0       550005   \n",
      "1          25015       12500.0          25005.0     7049.0       550005   \n",
      "2          25015       12500.0          25005.0     7049.0       550005   \n",
      "3          25015       12500.0          25005.0     7049.0       550005   \n",
      "4          25015       12500.0          25005.0     7049.0       550005   \n",
      "\n",
      "   speed_modified  power_score legendary  \n",
      "0           25000        50005     False  \n",
      "1           25000        50005     False  \n",
      "2           25000        50005      True  \n",
      "3           25000        50005     False  \n",
      "4           25000        50005     False  \n",
      "\n",
      "[5 rows x 36 columns]\n"
     ]
    }
   ],
   "source": [
    "\n",
    "# Merge example\n",
    "extra_data = pd.DataFrame({\n",
    "    \"AI_Platform\": df[\"AI_Platform\"].head(),\n",
    "    \"legendary\": [False, False, True, False, True]\n",
    "})\n",
    "df_merged = df.merge(extra_data, on=\"AI_Platform\", how=\"left\")\n",
    "print(\"\\nMerged Extra Data:\\n\", df_merged.head())\n"
   ]
  },
  {
   "cell_type": "code",
   "execution_count": null,
   "metadata": {},
   "outputs": [
    {
     "name": "stdout",
     "output_type": "stream",
     "text": [
      "\n",
      "Joined Stats and Types:\n",
      "          Active_Users  New_Users  Churned_Users     type_1 type_2\n",
      "NeoBot         450000      49000          49000     Custom     ML\n",
      "SynthAI        600000      62000          63000  Synthetic   None\n"
     ]
    }
   ],
   "source": [
    "# Join example\n",
    "df_stats = pd.DataFrame({\n",
    "    \"Active_Users\": [450000, 600000],\n",
    "    \"New_Users\": [49000, 62000],\n",
    "    \"Churned_Users\": [49000, 63000]\n",
    "}, index=[\"NeoBot\", \"SynthAI\"])\n",
    "\n",
    "df_types = pd.DataFrame({\n",
    "    \"type_1\": [\"Custom\", \"Synthetic\"],\n",
    "    \"type_2\": [\"ML\", None]\n",
    "}, index=[\"NeoBot\", \"SynthAI\"])\n",
    "\n",
    "df_joined = df_stats.join(df_types)\n",
    "print(\"\\nJoined Stats and Types:\\n\", df_joined)"
   ]
  },
  {
   "cell_type": "code",
   "execution_count": null,
   "metadata": {},
   "outputs": [
    {
     "name": "stdout",
     "output_type": "stream",
     "text": [
      "\n",
      "Grouped Stats:\n",
      "             New_Users                        Active_Users           \\\n",
      "                  min     max           mean          min      max   \n",
      "AI_Platform                                                          \n",
      "ChatGPT         12505   60005   37666.052009       250000  1200000   \n",
      "DeepSeek        20005  305005  165301.506905       200000  3050000   \n",
      "\n",
      "                          Churned_Users                       \n",
      "                     mean           min    max          mean  \n",
      "AI_Platform                                                   \n",
      "ChatGPT      7.532210e+05         12500  60000  37661.052009  \n",
      "DeepSeek     1.652965e+06          4000  61000  33059.301381  \n",
      "\n",
      "User Count per New_Users:\n",
      " New_Users\n",
      "12505      20\n",
      "15005     225\n",
      "17505     240\n",
      "20005     367\n",
      "22505     208\n",
      "25005     251\n",
      "27505     379\n",
      "30005     255\n",
      "32505     422\n",
      "35005     430\n",
      "37505     154\n",
      "40005     285\n",
      "42505     262\n",
      "45005     320\n",
      "47505     312\n",
      "50005     479\n",
      "52505     401\n",
      "55005     243\n",
      "57505     183\n",
      "60005     229\n",
      "65005     291\n",
      "80005     178\n",
      "95005     210\n",
      "110005    293\n",
      "125005    233\n",
      "140005    345\n",
      "155005    216\n",
      "170005    248\n",
      "185005    291\n",
      "200005    240\n",
      "215005    321\n",
      "230005    224\n",
      "245005    343\n",
      "260005    335\n",
      "275005    292\n",
      "290005    274\n",
      "305005      1\n",
      "Name: AI_Platform, dtype: int64\n",
      "\n",
      "Strongest per Platform:\n",
      "      AI_Platform  New_Users\n",
      "112      ChatGPT      60005\n",
      "5783    DeepSeek     305005\n",
      "\n",
      "Average HP (Active Users) per Platform:\n",
      " AI_Platform\n",
      "ChatGPT     7.532210e+05\n",
      "DeepSeek    1.652965e+06\n",
      "Name: Active_Users, dtype: float64\n"
     ]
    }
   ],
   "source": [
    "# Group by with multiple agg\n",
    "type_stats = df.groupby(\"AI_Platform\")[[\"New_Users\", \"Active_Users\", \"Churned_Users\"]].agg([\"min\", \"max\", \"mean\"])\n",
    "print(\"\\nGrouped Stats:\\n\", type_stats)\n",
    "\n",
    "type_counts = df.groupby(\"New_Users\")[\"AI_Platform\"].count()\n",
    "print(\"\\nUser Count per New_Users:\\n\", type_counts)\n",
    "\n",
    "strongest = df.loc[df.groupby(\"AI_Platform\")[\"New_Users\"].idxmax(), [\"AI_Platform\", \"New_Users\"]]\n",
    "print(\"\\nStrongest per Platform:\\n\", strongest)\n",
    "\n",
    "print(\"\\nAverage HP (Active Users) per Platform:\\n\", df.groupby(\"AI_Platform\")[\"Active_Users\"].mean())\n",
    "\n"
   ]
  },
  {
   "cell_type": "code",
   "execution_count": null,
   "metadata": {},
   "outputs": [
    {
     "name": "stdout",
     "output_type": "stream",
     "text": [
      "\n",
      "Pivot Table (Average New Users):\n",
      "                  New_Users\n",
      "AI_Platform               \n",
      "ChatGPT       37666.052009\n",
      "DeepSeek     165301.506905\n",
      "\n",
      "Pivot Table with Multiple Aggs:\n",
      "                   min       max           mean\n",
      "            New_Users New_Users      New_Users\n",
      "AI_Platform                                   \n",
      "ChatGPT         12505     60005   37666.052009\n",
      "DeepSeek        20005    305005  165301.506905\n",
      "\n",
      "Count per Platform:\n",
      "              User_ID\n",
      "AI_Platform         \n",
      "ChatGPT         5076\n",
      "DeepSeek        4924\n"
     ]
    }
   ],
   "source": [
    "\n",
    "# Pivot table\n",
    "pivot = df.pivot_table(values=\"New_Users\", index=\"AI_Platform\", aggfunc=\"mean\")\n",
    "print(\"\\nPivot Table (Average New Users):\\n\", pivot)\n",
    "\n",
    "pivot_multi = df.pivot_table(values=\"New_Users\", index=\"AI_Platform\", aggfunc=[\"min\", \"max\", \"mean\"])\n",
    "print(\"\\nPivot Table with Multiple Aggs:\\n\", pivot_multi)\n",
    "\n",
    "pivot_counts = df.pivot_table(values=\"User_ID\", index=\"AI_Platform\", aggfunc=\"count\")\n",
    "print(\"\\nCount per Platform:\\n\", pivot_counts)\n"
   ]
  },
  {
   "cell_type": "markdown",
   "metadata": {},
   "source": [
    "##  User Metrics Over Time  \n",
    "We'll analyze active users, new users, churned users, and retention over time.\n"
   ]
  },
  {
   "cell_type": "code",
   "execution_count": 14,
   "metadata": {},
   "outputs": [
    {
     "name": "stdout",
     "output_type": "stream",
     "text": [
      "['Date', ' Month_Num', ' Weekday  ', ' AI_Platform', ' AI_Model_Version ', ' Active_Users', ' New_Users', ' Churned_Users', ' Daily_Churn_Rate', ' Retention_Rate', ' User_ID                             ', ' Query_Type', ' Input_Text                                       ', ' Input_Text_Length', ' Response_Tokens', ' Topic_Category       ', ' User_Rating', ' User_Experience_Score', ' Session_Duration_sec', ' Device_Type   ', ' Language', ' Response_Accuracy', ' Response_Speed_sec', ' Response_Time_Category', ' Correction_Needed', ' User_Return_Frequency', ' Customer_Support_Interactions', ' Region']\n"
     ]
    }
   ],
   "source": [
    "print(df.columns.tolist())"
   ]
  },
  {
   "cell_type": "code",
   "execution_count": 19,
   "metadata": {},
   "outputs": [
    {
     "data": {
      "text/plain": [
       "<Figure size 1400x600 with 0 Axes>"
      ]
     },
     "metadata": {},
     "output_type": "display_data"
    },
    {
     "data": {
      "image/png": "[encoded data removed]",
      "text/plain": [
       "<Figure size 640x480 with 1 Axes>"
      ]
     },
     "metadata": {},
     "output_type": "display_data"
    }
   ],
   "source": [
    "metrics_by_date = df.groupby('Date')[[' Active_Users', ' New_Users', ' Churned_Users', ' Retention_Rate']].sum()\n",
    "\n",
    "# Plot\n",
    "plt.figure(figsize=(14, 6))\n",
    "metrics_by_date.plot(kind='line', marker='o')\n",
    "plt.title(\"User Metrics Over Time\")\n",
    "plt.ylabel(\"Users / Rate\")\n",
    "plt.grid(True)\n",
    "plt.xticks(rotation=45)\n",
    "plt.tight_layout()\n",
    "plt.show()\n"
   ]
  },
  {
   "cell_type": "markdown",
   "metadata": {},
   "source": [
    "##  Top Regions by Usage  \n",
    "Visualize the most active regions by the number of interactions.\n"
   ]
  },
  {
   "cell_type": "code",
   "execution_count": 21,
   "metadata": {},
   "outputs": [
    {
     "name": "stderr",
     "output_type": "stream",
     "text": [
      "C:\\Users\\sruja\\AppData\\Local\\Temp\\ipykernel_22328\\3240098334.py:5: FutureWarning: \n",
      "\n",
      "Passing `palette` without assigning `hue` is deprecated and will be removed in v0.14.0. Assign the `y` variable to `hue` and set `legend=False` for the same effect.\n",
      "\n",
      "  sns.barplot(x=top_regions.values, y=top_regions.index, palette='coolwarm')\n"
     ]
    },
    {
     "data": {
      "image/png": "[encoded data removed]",
      "text/plain": [
       "<Figure size 1000x500 with 1 Axes>"
      ]
     },
     "metadata": {},
     "output_type": "display_data"
    }
   ],
   "source": [
    "top_regions = df[' Region'].value_counts().nlargest(10)\n",
    "\n",
    "# Plot\n",
    "plt.figure(figsize=(10, 5))\n",
    "sns.barplot(x=top_regions.values, y=top_regions.index, palette='coolwarm')\n",
    "plt.title(\"Top 10 Regions by Query Volume\")\n",
    "plt.xlabel(\"Number of Queries\")\n",
    "plt.ylabel(\"Region\")\n",
    "plt.tight_layout()\n",
    "plt.show()\n"
   ]
  },
  {
   "cell_type": "markdown",
   "metadata": {},
   "source": [
    "## Query Type Distribution  \n",
    "Understand what users are using the platform for (e.g., content creation, debugging).\n"
   ]
  },
  {
   "cell_type": "code",
   "execution_count": 22,
   "metadata": {},
   "outputs": [
    {
     "data": {
      "image/png": "[encoded data removed]",
      "text/plain": [
       "<Figure size 800x800 with 1 Axes>"
      ]
     },
     "metadata": {},
     "output_type": "display_data"
    }
   ],
   "source": [
    "query_counts = df[' Query_Type'].value_counts()\n",
    "\n",
    "# Pie chart\n",
    "plt.figure(figsize=(8, 8))\n",
    "query_counts.plot(kind='pie', autopct='%1.1f%%', startangle=140, colors=sns.color_palette(\"pastel\"))\n",
    "plt.title(\"Query Type Distribution\")\n",
    "plt.ylabel(\"\")\n",
    "plt.show()\n"
   ]
  },
  {
   "cell_type": "markdown",
   "metadata": {},
   "source": [
    "## Session Duration Insights  \n",
    "Analyze how long users are spending per session across devices.\n"
   ]
  },
  {
   "cell_type": "code",
   "execution_count": 27,
   "metadata": {},
   "outputs": [
    {
     "name": "stdout",
     "output_type": "stream",
     "text": [
      "['Date', ' Month_Num', ' Weekday  ', ' AI_Platform', ' AI_Model_Version ', ' Active_Users', ' New_Users', ' Churned_Users', ' Daily_Churn_Rate', ' Retention_Rate', ' User_ID                             ', ' Query_Type', ' Input_Text                                       ', ' Input_Text_Length', ' Response_Tokens', ' Topic_Category       ', ' User_Rating', ' User_Experience_Score', ' Session_Duration_sec', ' Device_Type   ', ' Language', ' Response_Accuracy', ' Response_Speed_sec', ' Response_Time_Category', ' Correction_Needed', ' User_Return_Frequency', ' Customer_Support_Interactions', ' Region']\n"
     ]
    }
   ],
   "source": [
    "print(df.columns.tolist())\n",
    "df.columns = df.columns.str.strip()\n"
   ]
  },
  {
   "cell_type": "code",
   "execution_count": 31,
   "metadata": {},
   "outputs": [
    {
     "name": "stderr",
     "output_type": "stream",
     "text": [
      "C:\\Users\\sruja\\AppData\\Local\\Temp\\ipykernel_22328\\2954622798.py:2: FutureWarning: \n",
      "\n",
      "Passing `palette` without assigning `hue` is deprecated and will be removed in v0.14.0. Assign the `x` variable to `hue` and set `legend=False` for the same effect.\n",
      "\n",
      "  sns.boxplot(data=df, x='Device_Type', y='Session_Duration_sec', palette='Set2')\n"
     ]
    },
    {
     "data": {
      "image/png": "[encoded data removed]",
      "text/plain": [
       "<Figure size 1000x600 with 1 Axes>"
      ]
     },
     "metadata": {},
     "output_type": "display_data"
    }
   ],
   "source": [
    "plt.figure(figsize=(10, 6))\n",
    "sns.boxplot(data=df, x='Device_Type', y='Session_Duration_sec', palette='Set2')\n",
    "plt.title(\"Session Duration by Device Type\")\n",
    "plt.xlabel(\"Device\")\n",
    "plt.ylabel(\"Duration (sec)\")\n",
    "plt.tight_layout()\n",
    "plt.show()\n",
    "\n"
   ]
  },
  {
   "cell_type": "markdown",
   "metadata": {},
   "source": [
    "##  User Ratings vs Accuracy  \n",
    "See if users give higher ratings to more accurate responses.\n"
   ]
  },
  {
   "cell_type": "code",
   "execution_count": 34,
   "metadata": {},
   "outputs": [
    {
     "data": {
      "image/png": "[encoded data removed]",
      "text/plain": [
       "<Figure size 1000x500 with 1 Axes>"
      ]
     },
     "metadata": {},
     "output_type": "display_data"
    }
   ],
   "source": [
    "plt.figure(figsize=(10, 5), facecolor='white')  # Set background to white\n",
    "sns.set(style='whitegrid')  # Cleaner grid with white background\n",
    "\n",
    "sns.scatterplot(\n",
    "    data=df,\n",
    "    x='Response_Accuracy',\n",
    "    y='User_Rating',\n",
    "    hue='AI_Platform',\n",
    "    palette='Set2',\n",
    "    s=100,  # size of points\n",
    "    edgecolor='black'  # border around points\n",
    ")\n",
    "\n",
    "plt.title(\"User Ratings vs. Response Accuracy\", fontsize=14)\n",
    "plt.xlabel(\"Response Accuracy\", fontsize=12)\n",
    "plt.ylabel(\"User Rating\", fontsize=12)\n",
    "plt.legend(title=\"AI Platform\")\n",
    "plt.tight_layout()\n",
    "plt.show()\n"
   ]
  }
 ],
 "metadata": {
  "kernelspec": {
   "display_name": "Python 3",
   "language": "python",
   "name": "python3"
  },
  "language_info": {
   "codemirror_mode": {
    "name": "ipython",
    "version": 3
   },
   "file_extension": ".py",
   "mimetype": "text/x-python",
   "name": "python",
   "nbconvert_exporter": "python",
   "pygments_lexer": "ipython3",
   "version": "3.13.1"
  }
 },
 "nbformat": 4,
 "nbformat_minor": 2
}
