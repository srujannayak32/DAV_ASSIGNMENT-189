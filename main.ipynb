{
 "cells": [
  {
   "cell_type": "markdown",
   "metadata": {},
   "source": [
    "IMPORTING THE DATASET"
   ]
  },
  {
   "cell_type": "code",
   "execution_count": 1,
   "metadata": {},
   "outputs": [
    {
     "name": "stdout",
     "output_type": "stream",
     "text": [
      "DataSet info: \n",
      "<class 'pandas.core.frame.DataFrame'>\n",
      "RangeIndex: 10000 entries, 0 to 9999\n",
      "Data columns (total 28 columns):\n",
      " #   Column                         Non-Null Count  Dtype  \n",
      "---  ------                         --------------  -----  \n",
      " 0   Date                           10000 non-null  object \n",
      " 1   Month_Num                      10000 non-null  int64  \n",
      " 2   Weekday                        10000 non-null  object \n",
      " 3   AI_Platform                    10000 non-null  object \n",
      " 4   AI_Model_Version               10000 non-null  object \n",
      " 5   Active_Users                   10000 non-null  int64  \n",
      " 6   New_Users                      10000 non-null  int64  \n",
      " 7   Churned_Users                  10000 non-null  int64  \n",
      " 8   Daily_Churn_Rate               10000 non-null  float64\n",
      " 9   Retention_Rate                 10000 non-null  float64\n",
      " 10  User_ID                        10000 non-null  object \n",
      " 11  Query_Type                     10000 non-null  object \n",
      " 12  Input_Text                     10000 non-null  object \n",
      " 13  Input_Text_Length              10000 non-null  int64  \n",
      " 14  Response_Tokens                10000 non-null  int64  \n",
      " 15  Topic_Category                 10000 non-null  object \n",
      " 16  User_Rating                    10000 non-null  int64  \n",
      " 17  User_Experience_Score          10000 non-null  float64\n",
      " 18  Session_Duration_sec           10000 non-null  int64  \n",
      " 19  Device_Type                    10000 non-null  object \n",
      " 20  Language                       10000 non-null  object \n",
      " 21  Response_Accuracy              9621 non-null   float64\n",
      " 22  Response_Speed_sec             10000 non-null  float64\n",
      " 23  Response_Time_Category         10000 non-null  object \n",
      " 24  Correction_Needed              10000 non-null  int64  \n",
      " 25  User_Return_Frequency          10000 non-null  int64  \n",
      " 26  Customer_Support_Interactions  10000 non-null  int64  \n",
      " 27  Region                         10000 non-null  object \n",
      "dtypes: float64(5), int64(11), object(12)\n",
      "memory usage: 2.1+ MB\n"
     ]
    }
   ],
   "source": [
    "import pandas as pd\n",
    "\n",
    "# Corrected file path string and placement of '.csv'\n",
    "df = pd.read_csv(r'C:\\Users\\sruja\\Downloads\\DAV_ASSIGNMENT-189\\deepseek_vs_chatgpt_table.csv')\n",
    "\n",
    "print(\"DataSet info: \")\n",
    "df.info()\n"
   ]
  },
  {
   "cell_type": "markdown",
   "metadata": {},
   "source": [
    "## PERFORMING OPERATIONS -- \n",
    "\n",
    "### NUMPY OPERATIONS:\n",
    "1. Creating arrays\n",
    "2. Array indexing and slicing\n",
    "3. Reshaping arrays\n",
    "4. Concatenation and splitting\n",
    "5. Universal Functions (Ufuncs)\n",
    "6. Aggregations\n",
    "7. Broadcasting\n",
    "8. Boolean Masks and Fancy Indexing\n",
    "9. Sorting \n",
    "10. Structured arrays"
   ]
  },
  {
   "cell_type": "code",
   "execution_count": 2,
   "metadata": {},
   "outputs": [
    {
     "name": "stdout",
     "output_type": "stream",
     "text": [
      "New Users (attack_array): [ 25000  25000  25000 ... 170000 170000 170000]\n",
      "Active Users (hp_array): [ 500000  500000  500000 ... 1700000 1700000 1700000]\n",
      "Churned Users (speed_array): [25000 25000 25000 ... 34000 34000 34000]\n"
     ]
    }
   ],
   "source": [
    "import numpy as np\n",
    "\n",
    "attack_array = np.array(df[\"New_Users\"])\n",
    "hp_array = np.array(df[\"Active_Users\"])\n",
    "speed_array = np.array(df[\"Churned_Users\"])\n",
    "\n",
    "# Add these lines to see output\n",
    "print(\"New Users (attack_array):\", attack_array)\n",
    "print(\"Active Users (hp_array):\", hp_array)\n",
    "print(\"Churned Users (speed_array):\", speed_array)\n"
   ]
  },
  {
   "cell_type": "code",
   "execution_count": 3,
   "metadata": {},
   "outputs": [
    {
     "name": "stdout",
     "output_type": "stream",
     "text": [
      "[ 500000  500000  500000  500000 1700000 1700000 1700000 1700000 1700000\n",
      " 1700000]\n",
      "[170000 170000 170000 170000 170000]\n"
     ]
    }
   ],
   "source": [
    "# First 10 values\n",
    "print(hp_array[:10])\n",
    "print(attack_array[-5:])"
   ]
  },
  {
   "cell_type": "code",
   "execution_count": 4,
   "metadata": {},
   "outputs": [
    {
     "name": "stdout",
     "output_type": "stream",
     "text": [
      "[[ 500000  500000  500000  500000 1700000]\n",
      " [1700000 1700000 1700000 1700000 1700000]\n",
      " [1700000 1700000 1700000 1700000 1700000]\n",
      " [1700000  350000  350000  350000 2750000]]\n"
     ]
    }
   ],
   "source": [
    "# Reshape HP\n",
    "print(hp_array[:20].reshape(4, 5))\n"
   ]
  },
  {
   "cell_type": "code",
   "execution_count": 5,
   "metadata": {},
   "outputs": [
    {
     "name": "stdout",
     "output_type": "stream",
     "text": [
      "[ 500000  500000  500000  500000 1700000 1700000 1700000 1700000 1700000\n",
      " 1700000   25000   25000   25000   25000  170000  170000  170000  170000\n",
      "  170000  170000]\n",
      "[array([ 500000,  500000,  500000,  500000, 1700000]), array([1700000, 1700000, 1700000, 1700000, 1700000])]\n"
     ]
    }
   ],
   "source": [
    "# Concatenation and splitting\n",
    "concat_array = np.concatenate((hp_array[:10], attack_array[:10]))\n",
    "split_hp = np.split(hp_array[:10], 2)\n",
    "print(concat_array)\n",
    "print(split_hp)\n"
   ]
  },
  {
   "cell_type": "code",
   "execution_count": 40,
   "metadata": {},
   "outputs": [
    {
     "name": "stdout",
     "output_type": "stream",
     "text": [
      "Square root: [158.13 158.13 158.13 158.13 412.32 412.32 412.32 412.32 412.32 412.32]\n",
      "Multiplication: [ 50010  50010  50010  50010 340010 340010 340010 340010 340010 340010]\n",
      "Division: [12500. 12500. 12500. 12500. 17000. 17000. 17000. 17000. 17000. 17000.]\n",
      "Exponential: [1.01e+304 1.01e+304 1.01e+304 1.01e+304 1.01e+304 1.01e+304 1.01e+304 1.01e+304 1.01e+304 1.01e+304]\n",
      "Logarithm: [10.13 10.13 10.13 10.13 12.04 12.04 12.04 12.04 12.04 12.04]\n",
      "Sine of speed: [0.34 0.34 0.34 0.34 0.34 0.34 0.34 0.34 0.34 0.34]\n",
      "Cosine of attack: [-0.97 -0.97 -0.97 -0.97  0.09  0.09  0.09  0.09  0.09  0.09]\n",
      "Absolute HP: [ 500000  500000  500000  500000 1700000 1700000 1700000 1700000 1700000 1700000]\n",
      "Rounded attack: [ 25005  25005  25005  25005 170005 170005 170005 170005 170005 170005]\n",
      "HP > 300: [ True  True  True  True  True  True  True  True  True  True]\n",
      "HP < 100: [False False False False False False False False False False]\n",
      "Speed == 50: [False False False False False False False False False False]\n"
     ]
    }
   ],
   "source": [
    "import numpy as np\n",
    "\n",
    "# Use these arrays as examples or replace them with your actual arrays\n",
    "attack_array = np.array([25005, 25005, 25005, 25005, 170005, 170005, 170005, 170005, 170005, 170005])\n",
    "speed_array = np.array([25000, 25000, 25000, 25000, 34000, 34000, 34000, 34000, 34000, 34000])\n",
    "hp_array = np.array([500000, 500000, 500000, 500000, 1700000, 1700000, 1700000, 1700000, 1700000, 1700000])\n",
    "\n",
    "np.set_printoptions(precision=2, suppress=True)\n",
    "\n",
    "# Display only 10 values explicitly\n",
    "print(\"Square root:\", np.sqrt(attack_array))\n",
    "print(\"Multiplication:\", np.multiply(attack_array, 2))\n",
    "print(\"Division:\", np.divide(speed_array, 2))\n",
    "print(\"Exponential:\", np.exp(np.clip(hp_array, None, 700)))  # Clip to prevent overflow\n",
    "print(\"Logarithm:\", np.log(attack_array + 1))\n",
    "print(\"Sine of speed:\", np.sin(np.radians(speed_array)))\n",
    "print(\"Cosine of attack:\", np.cos(np.radians(attack_array)))\n",
    "print(\"Absolute HP:\", np.abs(hp_array))\n",
    "print(\"Rounded attack:\", np.round(attack_array))\n",
    "print(\"HP > 300:\", np.greater(hp_array, 300))\n",
    "print(\"HP < 100:\", np.less(hp_array, 100))\n",
    "print(\"Speed == 50:\", np.equal(speed_array, 50))\n",
    "\n",
    "\n"
   ]
  },
  {
   "cell_type": "code",
   "execution_count": 7,
   "metadata": {},
   "outputs": [
    {
     "name": "stdout",
     "output_type": "stream",
     "text": [
      "Total HP: 11962550000\n",
      "Mean Attack: 100508.75\n",
      "Median Speed: 35000.0\n",
      "Std HP: 744409.3127943793\n",
      "Variance Attack: 7323901798.4375\n",
      "Min Speed: 4000\n",
      "Max Speed: 61000\n",
      "Cumulative HP Sum: [     500000     1000000     1500000 ... 11959150000 11960850000\n",
      " 11962550000]\n"
     ]
    }
   ],
   "source": [
    "# Aggregations\n",
    "print(\"Total HP:\", np.sum(hp_array))\n",
    "print(\"Mean Attack:\", np.mean(attack_array))\n",
    "print(\"Median Speed:\", np.median(speed_array))\n",
    "print(\"Std HP:\", np.std(hp_array))\n",
    "print(\"Variance Attack:\", np.var(attack_array))\n",
    "print(\"Min Speed:\", np.min(speed_array))\n",
    "print(\"Max Speed:\", np.max(speed_array))\n",
    "print(\"Cumulative HP Sum:\", np.cumsum(hp_array))\n",
    "\n",
    "\n"
   ]
  },
  {
   "cell_type": "code",
   "execution_count": 8,
   "metadata": {},
   "outputs": [
    {
     "name": "stdout",
     "output_type": "stream",
     "text": [
      "            Date  Month_Num   Weekday AI_Platform   AI_Model_Version  \\\n",
      "5783  2025-02-01          2  Saturday    DeepSeek  DeepSeek-Chat 1.5   \n",
      "4478  2023-07-28          7    Friday     ChatGPT        GPT-4-turbo   \n",
      "4538  2023-07-14          7    Friday     ChatGPT        GPT-4-turbo   \n",
      "4537  2023-07-14          7    Friday     ChatGPT        GPT-4-turbo   \n",
      "4535  2023-07-14          7    Friday     ChatGPT        GPT-4-turbo   \n",
      "\n",
      "      Active_Users  New_Users  Churned_Users  Daily_Churn_Rate  \\\n",
      "5783       3050000     305000          61000              0.02   \n",
      "4478       1200000      60000          60000              0.05   \n",
      "4538       1200000      60000          60000              0.05   \n",
      "4537       1200000      60000          60000              0.05   \n",
      "4535       1200000      60000          60000              0.05   \n",
      "\n",
      "      Retention_Rate  ... Session_Duration_sec     Device_Type Language  \\\n",
      "5783            0.95  ...                   60          Mobile       de   \n",
      "4478            0.95  ...                   14  Laptop/Desktop       fr   \n",
      "4538            0.95  ...                   23          Mobile       fr   \n",
      "4537            0.95  ...                   14          Mobile       zh   \n",
      "4535            0.95  ...                    7   Smart Speaker       es   \n",
      "\n",
      "      Response_Accuracy  Response_Speed_sec Response_Time_Category  \\\n",
      "5783             0.8714                1.67                   Fast   \n",
      "4478             0.8727                4.29               Standard   \n",
      "4538             0.7359                4.46               Standard   \n",
      "4537             0.7347                4.56               Standard   \n",
      "4535             0.7080                4.60               Standard   \n",
      "\n",
      "      Correction_Needed  User_Return_Frequency  Customer_Support_Interactions  \\\n",
      "5783                  0                      8                              2   \n",
      "4478                  0                      9                              2   \n",
      "4538                  0                      3                              2   \n",
      "4537                  0                      8                              2   \n",
      "4535                  0                      9                              1   \n",
      "\n",
      "                    Region  \n",
      "5783               Belgium  \n",
      "4478                Cyprus  \n",
      "4538            Kazakhstan  \n",
      "4537  Syrian Arab Republic  \n",
      "4535                Brazil  \n",
      "\n",
      "[5 rows x 28 columns]\n"
     ]
    }
   ],
   "source": [
    "# Sort and ranking\n",
    "df_sorted_speed = df.sort_values(\"Churned_Users\", ascending=False)\n",
    "print(df_sorted_speed.head())\n"
   ]
  },
  {
   "cell_type": "code",
   "execution_count": 9,
   "metadata": {},
   "outputs": [
    {
     "name": "stdout",
     "output_type": "stream",
     "text": [
      "Top 5 fastest churn: [60000 60000 60000 60000 61000]\n"
     ]
    }
   ],
   "source": [
    "sorted_indices = np.argsort(attack_array)\n",
    "top_5_fastest = np.partition(speed_array, -5)[-5:]\n",
    "print(\"Top 5 fastest churn:\", top_5_fastest)\n"
   ]
  },
  {
   "cell_type": "code",
   "execution_count": 10,
   "metadata": {},
   "outputs": [
    {
     "name": "stdout",
     "output_type": "stream",
     "text": [
      "[ 25005  25005  25005 ... 170005 170005 170005]\n"
     ]
    }
   ],
   "source": [
    "\n",
    "# Broadcasting\n",
    "attack_array += 5\n",
    "print(attack_array)"
   ]
  },
  {
   "cell_type": "code",
   "execution_count": 11,
   "metadata": {},
   "outputs": [
    {
     "name": "stdout",
     "output_type": "stream",
     "text": [
      "         Date  Month_Num   Weekday AI_Platform   AI_Model_Version  \\\n",
      "0  2024-09-21          9  Saturday     ChatGPT        GPT-4-turbo   \n",
      "1  2024-09-21          9  Saturday     ChatGPT        GPT-4-turbo   \n",
      "2  2024-09-21          9  Saturday     ChatGPT        GPT-4-turbo   \n",
      "3  2024-09-21          9  Saturday     ChatGPT        GPT-4-turbo   \n",
      "4  2024-05-16          5  Thursday    DeepSeek  DeepSeek-Chat 1.5   \n",
      "\n",
      "   Active_Users  New_Users  Churned_Users  Daily_Churn_Rate  Retention_Rate  \\\n",
      "0        500000      25005          25000              0.05            0.95   \n",
      "1        500000      25005          25000              0.05            0.95   \n",
      "2        500000      25005          25000              0.05            0.95   \n",
      "3        500000      25005          25000              0.05            0.95   \n",
      "4       1700000     170005          34000              0.02            0.95   \n",
      "\n",
      "   ... Session_Duration_sec     Device_Type Language  Response_Accuracy  \\\n",
      "0  ...                   40          Mobile       es             0.7842   \n",
      "1  ...                   24  Laptop/Desktop       zh             0.8194   \n",
      "2  ...                   34          Mobile       en             0.8090   \n",
      "3  ...                   18          Mobile       fr             0.8233   \n",
      "4  ...                   10          Mobile       de             0.9366   \n",
      "\n",
      "   Response_Speed_sec Response_Time_Category  Correction_Needed  \\\n",
      "0                3.30               Standard                  0   \n",
      "1                3.28               Standard                  1   \n",
      "2                3.07               Standard                  0   \n",
      "3                3.06               Standard                  0   \n",
      "4                1.48                   Fast                  0   \n",
      "\n",
      "   User_Return_Frequency  Customer_Support_Interactions  \\\n",
      "0                      6                              2   \n",
      "1                      2                              2   \n",
      "2                      2                              0   \n",
      "3                      9                              0   \n",
      "4                      9                              3   \n",
      "\n",
      "                                         Region  \n",
      "0  Antarctica (the territory South of 60 deg S)  \n",
      "1                                       Ukraine  \n",
      "2                                       Grenada  \n",
      "3                                        Guyana  \n",
      "4                                         India  \n",
      "\n",
      "[5 rows x 28 columns]\n"
     ]
    }
   ],
   "source": [
    "# Boolean Masking\n",
    "high_hp = df[df[\"Active_Users\"] > 100000]\n",
    "print(high_hp.head())"
   ]
  },
  {
   "cell_type": "code",
   "execution_count": 12,
   "metadata": {},
   "outputs": [
    {
     "name": "stdout",
     "output_type": "stream",
     "text": [
      "          Date  Month_Num   Weekday AI_Platform   AI_Model_Version  \\\n",
      "0   2024-09-21          9  Saturday     ChatGPT        GPT-4-turbo   \n",
      "5   2024-05-16          5  Thursday    DeepSeek  DeepSeek-Chat 1.5   \n",
      "10  2024-05-16          5  Thursday    DeepSeek  DeepSeek-Chat 1.5   \n",
      "\n",
      "    Active_Users  New_Users  Churned_Users  Daily_Churn_Rate  Retention_Rate  \\\n",
      "0         500000      25005          25000              0.05            0.95   \n",
      "5        1700000     170005          34000              0.02            0.95   \n",
      "10       1700000     170005          34000              0.02            0.95   \n",
      "\n",
      "    ... Session_Duration_sec Device_Type Language  Response_Accuracy  \\\n",
      "0   ...                   40      Mobile       es             0.7842   \n",
      "5   ...                   18      Mobile       de             0.8992   \n",
      "10  ...                   20      Mobile       es             0.8947   \n",
      "\n",
      "    Response_Speed_sec Response_Time_Category  Correction_Needed  \\\n",
      "0                 3.30               Standard                  0   \n",
      "5                 1.80                   Fast                  0   \n",
      "10                1.54                   Fast                  1   \n",
      "\n",
      "    User_Return_Frequency  Customer_Support_Interactions  \\\n",
      "0                       6                              2   \n",
      "5                       5                              2   \n",
      "10                      7                              0   \n",
      "\n",
      "                                          Region  \n",
      "0   Antarctica (the territory South of 60 deg S)  \n",
      "5                                         Sweden  \n",
      "10                                       Ukraine  \n",
      "\n",
      "[3 rows x 28 columns]\n"
     ]
    }
   ],
   "source": [
    "# Fancy Indexing\n",
    "print(df.iloc[[0, 5, 10]])"
   ]
  },
  {
   "cell_type": "code",
   "execution_count": 13,
   "metadata": {},
   "outputs": [
    {
     "name": "stdout",
     "output_type": "stream",
     "text": [
      "[('c878a177-2da9-4224-8cf8-1d56a1c6a755', 'ChatGPT',  500000)\n",
      " ('7096d0f1-d0dc-4333-a5d0-de9dfd1b99fa', 'ChatGPT',  500000)\n",
      " ('e690c254-582f-49c1-89c3-0b4dd8ee59be', 'ChatGPT',  500000)\n",
      " ('0b6a010d-9d03-44c4-bf7f-7f8d2cc461e2', 'ChatGPT',  500000)\n",
      " ('ffa90616-1fa9-48ff-842d-e84e193c64f4', 'DeepSeek', 1700000)]\n"
     ]
    }
   ],
   "source": [
    "import numpy as np\n",
    "\n",
    "structured_array = np.array(\n",
    "    list(zip(df[\"User_ID\"], df[\"AI_Platform\"], df[\"Active_Users\"])),\n",
    "    dtype=[(\"ID\", \"U50\"), (\"Platform\", \"U20\"), (\"HP\", \"i4\")]\n",
    ")\n",
    "\n",
    "print(structured_array[:5])"
   ]
  },
  {
   "cell_type": "markdown",
   "metadata": {},
   "source": [
    "## Pandas Operations: \n",
    "1. Pandas Series\n",
    "2. Pandas DataFrame\n",
    "3. Indexing and Selecting\n",
    "4. Index Alignment and Operations\n",
    "5. Handling Missing data\n",
    "6. Heirarchial Indexing "
   ]
  },
  {
   "cell_type": "code",
   "execution_count": 14,
   "metadata": {},
   "outputs": [
    {
     "name": "stdout",
     "output_type": "stream",
     "text": [
      "0     500000\n",
      "1     500000\n",
      "2     500000\n",
      "3     500000\n",
      "4    1700000\n",
      "Name: Active_Users, dtype: int64\n"
     ]
    }
   ],
   "source": [
    "\n",
    "# Convert HP column to Series\n",
    "hp_series = pd.Series(df[\"Active_Users\"])\n",
    "print(hp_series.head())\n",
    "\n"
   ]
  },
  {
   "cell_type": "code",
   "execution_count": 15,
   "metadata": {},
   "outputs": [],
   "source": [
    "\n",
    "# Arithmetic\n",
    "df[\"attack_boosted\"] = df[\"New_Users\"] + 10\n",
    "df[\"speed_halved\"] = df[\"Churned_Users\"] / 2\n"
   ]
  },
  {
   "cell_type": "code",
   "execution_count": 17,
   "metadata": {},
   "outputs": [
    {
     "name": "stdout",
     "output_type": "stream",
     "text": [
      "Total New Users: 1005137500\n",
      "Average Churned Users: 35395.15\n",
      "Minimum Active Users: 200000\n",
      "Maximum Experience Score: 2.28\n",
      "\n",
      "User count per AI Platform:\n",
      " AI_Platform\n",
      "ChatGPT     5076\n",
      "DeepSeek    4924\n",
      "Name: count, dtype: int64\n"
     ]
    }
   ],
   "source": [
    "# operations on series\n",
    "print(\"Total New Users:\", df[\"New_Users\"].sum())            # total attack → total new users\n",
    "print(\"Average Churned Users:\", df[\"Churned_Users\"].mean()) # avg speed → avg churn\n",
    "print(\"Minimum Active Users:\", df[\"Active_Users\"].min())     # min hp → min active users\n",
    "print(\"Maximum Experience Score:\", df[\"User_Experience_Score\"].max())  # max defense\n",
    "print(\"\\nUser count per AI Platform:\\n\", df[\"AI_Platform\"].value_counts())  # count per type\n",
    "\n"
   ]
  },
  {
   "cell_type": "code",
   "execution_count": null,
   "metadata": {},
   "outputs": [],
   "source": [
    "# Apply function\n",
    "df[\"attack_modified\"] = df[\"New_Users\"].apply(lambda x: x * 1.2 if x > 100000 else x)\n"
   ]
  },
  {
   "cell_type": "code",
   "execution_count": null,
   "metadata": {},
   "outputs": [
    {
     "name": "stdout",
     "output_type": "stream",
     "text": [
      "1005137500\n",
      "35395.15\n",
      "200000\n",
      "0.95\n",
      "AI_Platform\n",
      "ChatGPT     5076\n",
      "DeepSeek    4924\n",
      "Name: count, dtype: int64\n"
     ]
    }
   ],
   "source": [
    "print(df[\"New_Users\"].sum())\n",
    "print(df[\"Churned_Users\"].mean())\n",
    "print(df[\"Active_Users\"].min())\n",
    "print(df[\"Retention_Rate\"].max())\n",
    "print(df[\"AI_Platform\"].value_counts())\n"
   ]
  },
  {
   "cell_type": "code",
   "execution_count": null,
   "metadata": {},
   "outputs": [
    {
     "name": "stdout",
     "output_type": "stream",
     "text": [
      "0    7049.0\n",
      "1    7049.0\n",
      "2    7049.0\n",
      "3    7049.0\n",
      "4    5184.0\n",
      "Name: speed_rank, dtype: float64\n"
     ]
    }
   ],
   "source": [
    "\n",
    "# Sorting and Ranking\n",
    "df[\"speed_rank\"] = df[\"Churned_Users\"].rank(method=\"min\", ascending=False)\n",
    "print(df[\"speed_rank\"].head())"
   ]
  },
  {
   "cell_type": "code",
   "execution_count": null,
   "metadata": {},
   "outputs": [],
   "source": [
    "# Fill missing values\n",
    "df.update(df[[\"New_Users\"]].fillna(df[\"New_Users\"].mean()))\n",
    "df.dropna(subset=[\"Churned_Users\"], inplace=True)\n"
   ]
  },
  {
   "cell_type": "code",
   "execution_count": null,
   "metadata": {},
   "outputs": [
    {
     "name": "stdout",
     "output_type": "stream",
     "text": [
      "  AI_Platform   AI_Model_Version  Active_Users\n",
      "0     ChatGPT        GPT-4-turbo        500000\n",
      "1     ChatGPT        GPT-4-turbo        500000\n",
      "2     ChatGPT        GPT-4-turbo        500000\n",
      "3     ChatGPT        GPT-4-turbo        500000\n",
      "4    DeepSeek  DeepSeek-Chat 1.5       1700000\n"
     ]
    }
   ],
   "source": [
    "# DataFrame subset\n",
    "subset_df = df[[\"AI_Platform\", \"AI_Model_Version\", \"Active_Users\"]]\n",
    "print(subset_df.head())\n"
   ]
  },
  {
   "cell_type": "code",
   "execution_count": null,
   "metadata": {},
   "outputs": [
    {
     "name": "stdout",
     "output_type": "stream",
     "text": [
      "   Month_Num  Active_Users  New_Users  Churned_Users  Daily_Churn_Rate  \\\n",
      "0         18       1000000      50010          50000              0.10   \n",
      "1         18       1000000      50010          50000              0.10   \n",
      "2         18       1000000      50010          50000              0.10   \n",
      "3         18       1000000      50010          50000              0.10   \n",
      "4         10       3400000     340010          68000              0.04   \n",
      "\n",
      "   Retention_Rate  Input_Text_Length  Response_Tokens  User_Rating  \\\n",
      "0             1.9                 14              560            8   \n",
      "1             1.9                 14              160            8   \n",
      "2             1.9                 16              262            6   \n",
      "3             1.9                 14              852           10   \n",
      "4             1.9                 12              430           10   \n",
      "\n",
      "   User_Experience_Score  ...  Response_Accuracy  Response_Speed_sec  \\\n",
      "0                   2.56  ...             1.5684                6.60   \n",
      "1                   2.56  ...             1.6388                6.56   \n",
      "2                   1.76  ...             1.6180                6.14   \n",
      "3                   3.36  ...             1.6466                6.12   \n",
      "4                   4.08  ...             1.8732                2.96   \n",
      "\n",
      "   Correction_Needed  User_Return_Frequency  Customer_Support_Interactions  \\\n",
      "0                  0                     12                              4   \n",
      "1                  2                      4                              4   \n",
      "2                  0                      4                              0   \n",
      "3                  0                     18                              0   \n",
      "4                  0                     18                              6   \n",
      "\n",
      "   attack_boosted  speed_halved  attack_modified  speed_rank  total_stats  \n",
      "0           50030       25000.0          50010.0     14098.0      1100010  \n",
      "1           50030       25000.0          50010.0     14098.0      1100010  \n",
      "2           50030       25000.0          50010.0     14098.0      1100010  \n",
      "3           50030       25000.0          50010.0     14098.0      1100010  \n",
      "4          340030       34000.0         408012.0     10368.0      3808010  \n",
      "\n",
      "[5 rows x 21 columns]\n"
     ]
    }
   ],
   "source": [
    "# New column\n",
    "df[\"total_stats\"] = df[\"New_Users\"] + df[\"Churned_Users\"] + df[\"Active_Users\"]\n",
    "\n",
    "# Multiply numeric only\n",
    "df_numeric = df.select_dtypes(include=\"number\")\n",
    "df_doubled = df_numeric * 2\n",
    "print(df_doubled.head())"
   ]
  },
  {
   "cell_type": "code",
   "execution_count": null,
   "metadata": {},
   "outputs": [
    {
     "name": "stdout",
     "output_type": "stream",
     "text": [
      "AI_Platform\n",
      "ChatGPT      37666.052009\n",
      "DeepSeek    165301.506905\n",
      "Name: New_Users, dtype: float64\n"
     ]
    }
   ],
   "source": [
    "\n",
    "# Group by and aggregation\n",
    "type_attack = df.groupby(\"AI_Platform\")[\"New_Users\"].mean()\n",
    "print(type_attack)"
   ]
  },
  {
   "cell_type": "code",
   "execution_count": null,
   "metadata": {},
   "outputs": [
    {
     "name": "stdout",
     "output_type": "stream",
     "text": [
      "AI_Platform\n",
      "ChatGPT     60000\n",
      "DeepSeek    61000\n",
      "Name: Churned_Users, dtype: int64\n"
     ]
    }
   ],
   "source": [
    "\n",
    "type_speed = df.groupby(\"AI_Platform\")[\"Churned_Users\"].max()\n",
    "print(type_speed)\n"
   ]
  },
  {
   "cell_type": "code",
   "execution_count": null,
   "metadata": {},
   "outputs": [
    {
     "name": "stdout",
     "output_type": "stream",
     "text": [
      "            Date  Month_Num   Weekday AI_Platform   AI_Model_Version  \\\n",
      "5783  2025-02-01          2  Saturday    DeepSeek  DeepSeek-Chat 1.5   \n",
      "69    2025-01-12          1    Sunday    DeepSeek  DeepSeek-Chat 1.5   \n",
      "70    2025-01-12          1    Sunday    DeepSeek  DeepSeek-Chat 1.5   \n",
      "71    2025-01-12          1    Sunday    DeepSeek  DeepSeek-Chat 1.5   \n",
      "72    2025-01-12          1    Sunday    DeepSeek  DeepSeek-Chat 1.5   \n",
      "\n",
      "      Active_Users  New_Users  Churned_Users  Daily_Churn_Rate  \\\n",
      "5783       3050000     305005          61000              0.02   \n",
      "69         2900000     290005          58000              0.02   \n",
      "70         2900000     290005          58000              0.02   \n",
      "71         2900000     290005          58000              0.02   \n",
      "72         2900000     290005          58000              0.02   \n",
      "\n",
      "      Retention_Rate  ... Response_Time_Category Correction_Needed  \\\n",
      "5783            0.95  ...                   Fast                 0   \n",
      "69              0.95  ...                   Fast                 0   \n",
      "70              0.95  ...                   Fast                 0   \n",
      "71              0.95  ...                   Fast                 1   \n",
      "72              0.95  ...                   Fast                 1   \n",
      "\n",
      "     User_Return_Frequency  Customer_Support_Interactions    Region  \\\n",
      "5783                     8                              2   Belgium   \n",
      "69                       3                              1   Lebanon   \n",
      "70                       3                              3     Italy   \n",
      "71                       3                              1  Guernsey   \n",
      "72                       8                              2     Nepal   \n",
      "\n",
      "     attack_boosted  speed_halved  attack_modified  speed_rank total_stats  \n",
      "5783         305015       30500.0         366006.0         1.0     3416005  \n",
      "69           290015       29000.0         348006.0       231.0     3248005  \n",
      "70           290015       29000.0         348006.0       231.0     3248005  \n",
      "71           290015       29000.0         348006.0       231.0     3248005  \n",
      "72           290015       29000.0         348006.0       231.0     3248005  \n",
      "\n",
      "[5 rows x 33 columns]\n"
     ]
    }
   ],
   "source": [
    "\n",
    "# Sort\n",
    "df_sorted = df.sort_values(by=[\"New_Users\", \"Churned_Users\"], ascending=[False, True])\n",
    "print(df_sorted.head())\n"
   ]
  },
  {
   "cell_type": "code",
   "execution_count": null,
   "metadata": {},
   "outputs": [
    {
     "name": "stdout",
     "output_type": "stream",
     "text": [
      "   speed_modified  power_score\n",
      "0           25000        50005\n",
      "1           25000        50005\n",
      "2           25000        50005\n",
      "3           25000        50005\n",
      "4           34000       204005\n"
     ]
    }
   ],
   "source": [
    "# Apply functions\n",
    "df[\"speed_modified\"] = df[\"Churned_Users\"].apply(lambda x: x * 1.5 if x > 80000 else x)\n",
    "df[\"power_score\"] = df.apply(lambda row: row[\"New_Users\"] + row[\"Churned_Users\"], axis=1)\n",
    "print(df[[\"speed_modified\", \"power_score\"]].head())\n"
   ]
  },
  {
   "cell_type": "code",
   "execution_count": null,
   "metadata": {},
   "outputs": [
    {
     "name": "stdout",
     "output_type": "stream",
     "text": [
      "\n",
      "Missing values:\n",
      " Date                               0\n",
      "Month_Num                          0\n",
      "Weekday                            0\n",
      "AI_Platform                        0\n",
      "AI_Model_Version                   0\n",
      "Active_Users                       0\n",
      "New_Users                          0\n",
      "Churned_Users                      0\n",
      "Daily_Churn_Rate                   0\n",
      "Retention_Rate                     0\n",
      "User_ID                            0\n",
      "Query_Type                         0\n",
      "Input_Text                         0\n",
      "Input_Text_Length                  0\n",
      "Response_Tokens                    0\n",
      "Topic_Category                     0\n",
      "User_Rating                        0\n",
      "User_Experience_Score              0\n",
      "Session_Duration_sec               0\n",
      "Device_Type                        0\n",
      "Language                           0\n",
      "Response_Accuracy                379\n",
      "Response_Speed_sec                 0\n",
      "Response_Time_Category             0\n",
      "Correction_Needed                  0\n",
      "User_Return_Frequency              0\n",
      "Customer_Support_Interactions      0\n",
      "Region                             0\n",
      "attack_boosted                     0\n",
      "speed_halved                       0\n",
      "attack_modified                    0\n",
      "speed_rank                         0\n",
      "total_stats                        0\n",
      "speed_modified                     0\n",
      "power_score                        0\n",
      "dtype: int64\n"
     ]
    }
   ],
   "source": [
    "# Check nulls\n",
    "print(\"\\nMissing values:\\n\", df.isnull().sum())"
   ]
  },
  {
   "cell_type": "code",
   "execution_count": null,
   "metadata": {},
   "outputs": [
    {
     "name": "stdout",
     "output_type": "stream",
     "text": [
      "\n",
      "Filled missing New_Users:\n",
      "   AI_Platform  New_Users\n",
      "0     ChatGPT      25005\n",
      "1     ChatGPT      25005\n",
      "2     ChatGPT      25005\n",
      "3     ChatGPT      25005\n",
      "4    DeepSeek     170005\n"
     ]
    }
   ],
   "source": [
    "# Fill missing attack (New_Users)\n",
    "df[\"New_Users\"] = df[\"New_Users\"].fillna(df[\"New_Users\"].mean())\n",
    "print(\"\\nFilled missing New_Users:\\n\", df[[\"AI_Platform\", \"New_Users\"]].head())"
   ]
  },
  {
   "cell_type": "markdown",
   "metadata": {},
   "source": [
    "# Combining Datasets: \n",
    "1. Concatenation\n",
    "2. Merging\n",
    "3. Joins\n",
    "4. Aggregation and Grouping\n",
    "5. Pivot Tables\n"
   ]
  },
  {
   "cell_type": "code",
   "execution_count": null,
   "metadata": {},
   "outputs": [
    {
     "name": "stdout",
     "output_type": "stream",
     "text": [
      "             Date  Month_Num Weekday AI_Platform   AI_Model_Version  \\\n",
      "9997   2024-05-17        5.0  Friday    DeepSeek  DeepSeek-Chat 1.5   \n",
      "9998   2024-05-17        5.0  Friday    DeepSeek  DeepSeek-Chat 1.5   \n",
      "9999   2024-05-17        5.0  Friday    DeepSeek  DeepSeek-Chat 1.5   \n",
      "10000         NaN        NaN     NaN      NeoBot                1.0   \n",
      "10001         NaN        NaN     NaN     SynthAI                2.0   \n",
      "\n",
      "       Active_Users  New_Users  Churned_Users  Daily_Churn_Rate  \\\n",
      "9997        1700000     170005        34000.0              0.02   \n",
      "9998        1700000     170005        34000.0              0.02   \n",
      "9999        1700000     170005        34000.0              0.02   \n",
      "10000        100000      20000            NaN               NaN   \n",
      "10001        200000      30000            NaN               NaN   \n",
      "\n",
      "       Retention_Rate  ... User_Return_Frequency  \\\n",
      "9997             0.95  ...                  10.0   \n",
      "9998             0.95  ...                   5.0   \n",
      "9999             0.95  ...                   7.0   \n",
      "10000             NaN  ...                   NaN   \n",
      "10001             NaN  ...                   NaN   \n",
      "\n",
      "      Customer_Support_Interactions           Region  attack_boosted  \\\n",
      "9997                            2.0         Ethiopia        170015.0   \n",
      "9998                            3.0      Puerto Rico        170015.0   \n",
      "9999                            1.0  Kyrgyz Republic        170015.0   \n",
      "10000                           NaN              NaN             NaN   \n",
      "10001                           NaN              NaN             NaN   \n",
      "\n",
      "       speed_halved attack_modified  speed_rank  total_stats  speed_modified  \\\n",
      "9997        17000.0        204006.0      5184.0    1904005.0         34000.0   \n",
      "9998        17000.0        204006.0      5184.0    1904005.0         34000.0   \n",
      "9999        17000.0        204006.0      5184.0    1904005.0         34000.0   \n",
      "10000           NaN             NaN         NaN          NaN             NaN   \n",
      "10001           NaN             NaN         NaN          NaN             NaN   \n",
      "\n",
      "      power_score  \n",
      "9997     204005.0  \n",
      "9998     204005.0  \n",
      "9999     204005.0  \n",
      "10000         NaN  \n",
      "10001         NaN  \n",
      "\n",
      "[5 rows x 35 columns]\n"
     ]
    }
   ],
   "source": [
    "# Concatenation\n",
    "new_data = pd.DataFrame({\n",
    "    \"AI_Platform\": [\"NeoBot\", \"SynthAI\"],\n",
    "    \"AI_Model_Version\": [\"1.0\", \"2.0\"],\n",
    "    \"Active_Users\": [100000, 200000],\n",
    "    \"New_Users\": [20000, 30000]\n",
    "})\n",
    "df_combined = pd.concat([df, new_data], ignore_index=True)\n",
    "print(df_combined.tail())\n",
    "\n"
   ]
  },
  {
   "cell_type": "code",
   "execution_count": null,
   "metadata": {},
   "outputs": [
    {
     "name": "stdout",
     "output_type": "stream",
     "text": [
      "\n",
      "Merged Extra Data:\n",
      "          Date  Month_Num   Weekday AI_Platform AI_Model_Version  Active_Users  \\\n",
      "0  2024-09-21          9  Saturday     ChatGPT      GPT-4-turbo        500000   \n",
      "1  2024-09-21          9  Saturday     ChatGPT      GPT-4-turbo        500000   \n",
      "2  2024-09-21          9  Saturday     ChatGPT      GPT-4-turbo        500000   \n",
      "3  2024-09-21          9  Saturday     ChatGPT      GPT-4-turbo        500000   \n",
      "4  2024-09-21          9  Saturday     ChatGPT      GPT-4-turbo        500000   \n",
      "\n",
      "   New_Users  Churned_Users  Daily_Churn_Rate  Retention_Rate  ...  \\\n",
      "0      25005          25000              0.05            0.95  ...   \n",
      "1      25005          25000              0.05            0.95  ...   \n",
      "2      25005          25000              0.05            0.95  ...   \n",
      "3      25005          25000              0.05            0.95  ...   \n",
      "4      25005          25000              0.05            0.95  ...   \n",
      "\n",
      "  Customer_Support_Interactions                                        Region  \\\n",
      "0                             2  Antarctica (the territory South of 60 deg S)   \n",
      "1                             2  Antarctica (the territory South of 60 deg S)   \n",
      "2                             2  Antarctica (the territory South of 60 deg S)   \n",
      "3                             2  Antarctica (the territory South of 60 deg S)   \n",
      "4                             2                                       Ukraine   \n",
      "\n",
      "  attack_boosted  speed_halved  attack_modified speed_rank  total_stats  \\\n",
      "0          25015       12500.0          25005.0     7049.0       550005   \n",
      "1          25015       12500.0          25005.0     7049.0       550005   \n",
      "2          25015       12500.0          25005.0     7049.0       550005   \n",
      "3          25015       12500.0          25005.0     7049.0       550005   \n",
      "4          25015       12500.0          25005.0     7049.0       550005   \n",
      "\n",
      "   speed_modified  power_score legendary  \n",
      "0           25000        50005     False  \n",
      "1           25000        50005     False  \n",
      "2           25000        50005      True  \n",
      "3           25000        50005     False  \n",
      "4           25000        50005     False  \n",
      "\n",
      "[5 rows x 36 columns]\n"
     ]
    }
   ],
   "source": [
    "\n",
    "# Merge example\n",
    "extra_data = pd.DataFrame({\n",
    "    \"AI_Platform\": df[\"AI_Platform\"].head(),\n",
    "    \"legendary\": [False, False, True, False, True]\n",
    "})\n",
    "df_merged = df.merge(extra_data, on=\"AI_Platform\", how=\"left\")\n",
    "print(\"\\nMerged Extra Data:\\n\", df_merged.head())\n"
   ]
  },
  {
   "cell_type": "code",
   "execution_count": null,
   "metadata": {},
   "outputs": [
    {
     "name": "stdout",
     "output_type": "stream",
     "text": [
      "\n",
      "Joined Stats and Types:\n",
      "          Active_Users  New_Users  Churned_Users     type_1 type_2\n",
      "NeoBot         450000      49000          49000     Custom     ML\n",
      "SynthAI        600000      62000          63000  Synthetic   None\n"
     ]
    }
   ],
   "source": [
    "# Join example\n",
    "df_stats = pd.DataFrame({\n",
    "    \"Active_Users\": [450000, 600000],\n",
    "    \"New_Users\": [49000, 62000],\n",
    "    \"Churned_Users\": [49000, 63000]\n",
    "}, index=[\"NeoBot\", \"SynthAI\"])\n",
    "\n",
    "df_types = pd.DataFrame({\n",
    "    \"type_1\": [\"Custom\", \"Synthetic\"],\n",
    "    \"type_2\": [\"ML\", None]\n",
    "}, index=[\"NeoBot\", \"SynthAI\"])\n",
    "\n",
    "df_joined = df_stats.join(df_types)\n",
    "print(\"\\nJoined Stats and Types:\\n\", df_joined)"
   ]
  },
  {
   "cell_type": "code",
   "execution_count": null,
   "metadata": {},
   "outputs": [
    {
     "name": "stdout",
     "output_type": "stream",
     "text": [
      "\n",
      "Grouped Stats:\n",
      "             New_Users                        Active_Users           \\\n",
      "                  min     max           mean          min      max   \n",
      "AI_Platform                                                          \n",
      "ChatGPT         12505   60005   37666.052009       250000  1200000   \n",
      "DeepSeek        20005  305005  165301.506905       200000  3050000   \n",
      "\n",
      "                          Churned_Users                       \n",
      "                     mean           min    max          mean  \n",
      "AI_Platform                                                   \n",
      "ChatGPT      7.532210e+05         12500  60000  37661.052009  \n",
      "DeepSeek     1.652965e+06          4000  61000  33059.301381  \n",
      "\n",
      "User Count per New_Users:\n",
      " New_Users\n",
      "12505      20\n",
      "15005     225\n",
      "17505     240\n",
      "20005     367\n",
      "22505     208\n",
      "25005     251\n",
      "27505     379\n",
      "30005     255\n",
      "32505     422\n",
      "35005     430\n",
      "37505     154\n",
      "40005     285\n",
      "42505     262\n",
      "45005     320\n",
      "47505     312\n",
      "50005     479\n",
      "52505     401\n",
      "55005     243\n",
      "57505     183\n",
      "60005     229\n",
      "65005     291\n",
      "80005     178\n",
      "95005     210\n",
      "110005    293\n",
      "125005    233\n",
      "140005    345\n",
      "155005    216\n",
      "170005    248\n",
      "185005    291\n",
      "200005    240\n",
      "215005    321\n",
      "230005    224\n",
      "245005    343\n",
      "260005    335\n",
      "275005    292\n",
      "290005    274\n",
      "305005      1\n",
      "Name: AI_Platform, dtype: int64\n",
      "\n",
      "Strongest per Platform:\n",
      "      AI_Platform  New_Users\n",
      "112      ChatGPT      60005\n",
      "5783    DeepSeek     305005\n",
      "\n",
      "Average HP (Active Users) per Platform:\n",
      " AI_Platform\n",
      "ChatGPT     7.532210e+05\n",
      "DeepSeek    1.652965e+06\n",
      "Name: Active_Users, dtype: float64\n"
     ]
    }
   ],
   "source": [
    "# Group by with multiple agg\n",
    "type_stats = df.groupby(\"AI_Platform\")[[\"New_Users\", \"Active_Users\", \"Churned_Users\"]].agg([\"min\", \"max\", \"mean\"])\n",
    "print(\"\\nGrouped Stats:\\n\", type_stats)\n",
    "\n",
    "type_counts = df.groupby(\"New_Users\")[\"AI_Platform\"].count()\n",
    "print(\"\\nUser Count per New_Users:\\n\", type_counts)\n",
    "\n",
    "strongest = df.loc[df.groupby(\"AI_Platform\")[\"New_Users\"].idxmax(), [\"AI_Platform\", \"New_Users\"]]\n",
    "print(\"\\nStrongest per Platform:\\n\", strongest)\n",
    "\n",
    "print(\"\\nAverage HP (Active Users) per Platform:\\n\", df.groupby(\"AI_Platform\")[\"Active_Users\"].mean())\n",
    "\n"
   ]
  },
  {
   "cell_type": "code",
   "execution_count": 18,
   "metadata": {},
   "outputs": [
    {
     "name": "stdout",
     "output_type": "stream",
     "text": [
      "\n",
      "Pivot Table (Average New Users):\n",
      "                  New_Users\n",
      "AI_Platform               \n",
      "ChatGPT       37666.052009\n",
      "DeepSeek     165301.506905\n",
      "\n",
      "Pivot Table with Multiple Aggs:\n",
      "                   min       max           mean\n",
      "            New_Users New_Users      New_Users\n",
      "AI_Platform                                   \n",
      "ChatGPT         12505     60005   37666.052009\n",
      "DeepSeek        20005    305005  165301.506905\n",
      "\n",
      "Count per Platform:\n",
      "              User_ID\n",
      "AI_Platform         \n",
      "ChatGPT         5076\n",
      "DeepSeek        4924\n"
     ]
    }
   ],
   "source": [
    "\n",
    "# Pivot table\n",
    "pivot = df.pivot_table(values=\"New_Users\", index=\"AI_Platform\", aggfunc=\"mean\")\n",
    "print(\"\\nPivot Table (Average New Users):\\n\", pivot)\n",
    "\n",
    "pivot_multi = df.pivot_table(values=\"New_Users\", index=\"AI_Platform\", aggfunc=[\"min\", \"max\", \"mean\"])\n",
    "print(\"\\nPivot Table with Multiple Aggs:\\n\", pivot_multi)\n",
    "\n",
    "pivot_counts = df.pivot_table(values=\"User_ID\", index=\"AI_Platform\", aggfunc=\"count\")\n",
    "print(\"\\nCount per Platform:\\n\", pivot_counts)\n"
   ]
  }
 ],
 "metadata": {
  "kernelspec": {
   "display_name": "Python 3",
   "language": "python",
   "name": "python3"
  },
  "language_info": {
   "codemirror_mode": {
    "name": "ipython",
    "version": 3
   },
   "file_extension": ".py",
   "mimetype": "text/x-python",
   "name": "python",
   "nbconvert_exporter": "python",
   "pygments_lexer": "ipython3",
   "version": "3.13.1"
  }
 },
 "nbformat": 4,
 "nbformat_minor": 2
}
