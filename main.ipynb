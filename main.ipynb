{
 "cells": [
  {
   "cell_type": "markdown",
   "metadata": {},
   "source": [
    "IMPORTING THE DATASET"
   ]
  },
  {
   "cell_type": "code",
   "execution_count": 1,
   "metadata": {},
   "outputs": [
    {
     "name": "stdout",
     "output_type": "stream",
     "text": [
      "DataSet info: \n",
      "<class 'pandas.core.frame.DataFrame'>\n",
      "RangeIndex: 10000 entries, 0 to 9999\n",
      "Data columns (total 28 columns):\n",
      " #   Column                         Non-Null Count  Dtype  \n",
      "---  ------                         --------------  -----  \n",
      " 0   Date                           10000 non-null  object \n",
      " 1   Month_Num                      10000 non-null  int64  \n",
      " 2   Weekday                        10000 non-null  object \n",
      " 3   AI_Platform                    10000 non-null  object \n",
      " 4   AI_Model_Version               10000 non-null  object \n",
      " 5   Active_Users                   10000 non-null  int64  \n",
      " 6   New_Users                      10000 non-null  int64  \n",
      " 7   Churned_Users                  10000 non-null  int64  \n",
      " 8   Daily_Churn_Rate               10000 non-null  float64\n",
      " 9   Retention_Rate                 10000 non-null  float64\n",
      " 10  User_ID                        10000 non-null  object \n",
      " 11  Query_Type                     10000 non-null  object \n",
      " 12  Input_Text                     10000 non-null  object \n",
      " 13  Input_Text_Length              10000 non-null  int64  \n",
      " 14  Response_Tokens                10000 non-null  int64  \n",
      " 15  Topic_Category                 10000 non-null  object \n",
      " 16  User_Rating                    10000 non-null  int64  \n",
      " 17  User_Experience_Score          10000 non-null  float64\n",
      " 18  Session_Duration_sec           10000 non-null  int64  \n",
      " 19  Device_Type                    10000 non-null  object \n",
      " 20  Language                       10000 non-null  object \n",
      " 21  Response_Accuracy              9621 non-null   float64\n",
      " 22  Response_Speed_sec             10000 non-null  float64\n",
      " 23  Response_Time_Category         10000 non-null  object \n",
      " 24  Correction_Needed              10000 non-null  int64  \n",
      " 25  User_Return_Frequency          10000 non-null  int64  \n",
      " 26  Customer_Support_Interactions  10000 non-null  int64  \n",
      " 27  Region                         10000 non-null  object \n",
      "dtypes: float64(5), int64(11), object(12)\n",
      "memory usage: 2.1+ MB\n"
     ]
    }
   ],
   "source": [
    "import pandas as pd\n",
    "\n",
    "# Corrected file path string and placement of '.csv'\n",
    "df = pd.read_csv(r'C:\\Users\\sruja\\Downloads\\DAV_ASSIGNMENT-189\\deepseek_vs_chatgpt_table.csv')\n",
    "\n",
    "print(\"DataSet info: \")\n",
    "df.info()\n"
   ]
  },
  {
   "cell_type": "markdown",
   "metadata": {},
   "source": [
    "## PERFORMING OPERATIONS -- \n",
    "\n",
    "### NUMPY OPERATIONS:\n",
    "1. Creating arrays\n",
    "2. Array indexing and slicing\n",
    "3. Reshaping arrays\n",
    "4. Concatenation and splitting\n",
    "5. Universal Functions (Ufuncs)\n",
    "6. Aggregations\n",
    "7. Broadcasting\n",
    "8. Boolean Masks and Fancy Indexing\n",
    "9. Sorting \n",
    "10. Structured arrays"
   ]
  },
  {
   "cell_type": "code",
   "execution_count": 8,
   "metadata": {},
   "outputs": [
    {
     "name": "stdout",
     "output_type": "stream",
     "text": [
      "New Users (attack_array): [ 25000  25000  25000 ... 170000 170000 170000]\n",
      "Active Users (hp_array): [ 500000  500000  500000 ... 1700000 1700000 1700000]\n",
      "Churned Users (speed_array): [25000 25000 25000 ... 34000 34000 34000]\n"
     ]
    }
   ],
   "source": [
    "import numpy as np\n",
    "\n",
    "attack_array = np.array(df[\"New_Users\"])\n",
    "hp_array = np.array(df[\"Active_Users\"])\n",
    "speed_array = np.array(df[\"Churned_Users\"])\n",
    "\n",
    "# Add these lines to see output\n",
    "print(\"New Users (attack_array):\", attack_array)\n",
    "print(\"Active Users (hp_array):\", hp_array)\n",
    "print(\"Churned Users (speed_array):\", speed_array)\n"
   ]
  },
  {
   "cell_type": "code",
   "execution_count": 9,
   "metadata": {},
   "outputs": [
    {
     "name": "stdout",
     "output_type": "stream",
     "text": [
      "[ 500000  500000  500000  500000 1700000 1700000 1700000 1700000 1700000\n",
      " 1700000]\n",
      "[170000 170000 170000 170000 170000]\n"
     ]
    }
   ],
   "source": [
    "# First 10 values\n",
    "print(hp_array[:10])\n",
    "print(attack_array[-5:])"
   ]
  },
  {
   "cell_type": "code",
   "execution_count": 10,
   "metadata": {},
   "outputs": [
    {
     "name": "stdout",
     "output_type": "stream",
     "text": [
      "[[ 500000  500000  500000  500000 1700000]\n",
      " [1700000 1700000 1700000 1700000 1700000]\n",
      " [1700000 1700000 1700000 1700000 1700000]\n",
      " [1700000  350000  350000  350000 2750000]]\n"
     ]
    }
   ],
   "source": [
    "# Reshape HP\n",
    "print(hp_array[:20].reshape(4, 5))\n"
   ]
  },
  {
   "cell_type": "code",
   "execution_count": 11,
   "metadata": {},
   "outputs": [
    {
     "name": "stdout",
     "output_type": "stream",
     "text": [
      "[ 500000  500000  500000  500000 1700000 1700000 1700000 1700000 1700000\n",
      " 1700000   25000   25000   25000   25000  170000  170000  170000  170000\n",
      "  170000  170000]\n",
      "[array([ 500000,  500000,  500000,  500000, 1700000]), array([1700000, 1700000, 1700000, 1700000, 1700000])]\n"
     ]
    }
   ],
   "source": [
    "# Concatenation and splitting\n",
    "concat_array = np.concatenate((hp_array[:10], attack_array[:10]))\n",
    "split_hp = np.split(hp_array[:10], 2)\n",
    "print(concat_array)\n",
    "print(split_hp)\n"
   ]
  },
  {
   "cell_type": "code",
   "execution_count": 12,
   "metadata": {},
   "outputs": [
    {
     "name": "stdout",
     "output_type": "stream",
     "text": [
      "Square root:\n",
      " [158.11388301 158.11388301 158.11388301 ... 412.31056256 412.31056256\n",
      " 412.31056256]\n",
      "\n",
      "Multiplication:\n",
      " [ 50000  50000  50000 ... 340000 340000 340000]\n",
      "\n",
      "Division:\n",
      " [12500. 12500. 12500. ... 17000. 17000. 17000.]\n",
      "\n",
      "Exponential:\n",
      " [inf inf inf ... inf inf inf]\n",
      "\n",
      "Logarithm:\n",
      " [10.1266711 10.1266711 10.1266711 ... 12.0435596 12.0435596 12.0435596]\n",
      "\n",
      "Sine of speed:\n",
      " [0.34202014 0.34202014 0.34202014 ... 0.34202014 0.34202014 0.34202014]\n",
      "\n",
      "Cosine of attack:\n",
      " [-0.93969262 -0.93969262 -0.93969262 ...  0.17364818  0.17364818\n",
      "  0.17364818]\n",
      "\n",
      "Absolute HP:\n",
      " [ 500000  500000  500000 ... 1700000 1700000 1700000]\n",
      "\n",
      "Rounded attack:\n",
      " [ 25000  25000  25000 ... 170000 170000 170000]\n",
      "\n",
      "HP > 300:\n",
      " [ True  True  True ...  True  True  True]\n",
      "\n",
      "HP < 100:\n",
      " [False False False ... False False False]\n",
      "\n",
      "Speed == 50:\n",
      " [False False False ... False False False]\n"
     ]
    },
    {
     "name": "stderr",
     "output_type": "stream",
     "text": [
      "C:\\Users\\sruja\\AppData\\Local\\Temp\\ipykernel_29104\\9784098.py:4: RuntimeWarning: overflow encountered in exp\n",
      "  print(\"\\nExponential:\\n\", np.exp(hp_array))  # Warning: may overflow!\n"
     ]
    }
   ],
   "source": [
    "print(\"Square root:\\n\", np.sqrt(attack_array))\n",
    "print(\"\\nMultiplication:\\n\", np.multiply(attack_array, 2))\n",
    "print(\"\\nDivision:\\n\", np.divide(speed_array, 2))\n",
    "print(\"\\nExponential:\\n\", np.exp(hp_array))  # Warning: may overflow!\n",
    "print(\"\\nLogarithm:\\n\", np.log(attack_array + 1))\n",
    "print(\"\\nSine of speed:\\n\", np.sin(np.radians(speed_array)))\n",
    "print(\"\\nCosine of attack:\\n\", np.cos(np.radians(attack_array)))\n",
    "print(\"\\nAbsolute HP:\\n\", np.abs(hp_array))\n",
    "print(\"\\nRounded attack:\\n\", np.round(attack_array))\n",
    "print(\"\\nHP > 300:\\n\", np.greater(hp_array, 300))\n",
    "print(\"\\nHP < 100:\\n\", np.less(hp_array, 100))\n",
    "print(\"\\nSpeed == 50:\\n\", np.equal(speed_array, 50))\n",
    "\n"
   ]
  },
  {
   "cell_type": "code",
   "execution_count": 13,
   "metadata": {},
   "outputs": [
    {
     "name": "stdout",
     "output_type": "stream",
     "text": [
      "Total HP: 11962550000\n",
      "Mean Attack: 100508.75\n",
      "Median Speed: 35000.0\n",
      "Std HP: 744409.3127943793\n",
      "Variance Attack: 7323901798.4375\n",
      "Min Speed: 4000\n",
      "Max Speed: 61000\n",
      "Cumulative HP Sum: [     500000     1000000     1500000 ... 11959150000 11960850000\n",
      " 11962550000]\n"
     ]
    }
   ],
   "source": [
    "# Aggregations\n",
    "print(\"Total HP:\", np.sum(hp_array))\n",
    "print(\"Mean Attack:\", np.mean(attack_array))\n",
    "print(\"Median Speed:\", np.median(speed_array))\n",
    "print(\"Std HP:\", np.std(hp_array))\n",
    "print(\"Variance Attack:\", np.var(attack_array))\n",
    "print(\"Min Speed:\", np.min(speed_array))\n",
    "print(\"Max Speed:\", np.max(speed_array))\n",
    "print(\"Cumulative HP Sum:\", np.cumsum(hp_array))\n",
    "\n",
    "\n"
   ]
  },
  {
   "cell_type": "code",
   "execution_count": 14,
   "metadata": {},
   "outputs": [
    {
     "name": "stdout",
     "output_type": "stream",
     "text": [
      "            Date  Month_Num   Weekday AI_Platform   AI_Model_Version  \\\n",
      "5783  2025-02-01          2  Saturday    DeepSeek  DeepSeek-Chat 1.5   \n",
      "4478  2023-07-28          7    Friday     ChatGPT        GPT-4-turbo   \n",
      "4538  2023-07-14          7    Friday     ChatGPT        GPT-4-turbo   \n",
      "4537  2023-07-14          7    Friday     ChatGPT        GPT-4-turbo   \n",
      "4535  2023-07-14          7    Friday     ChatGPT        GPT-4-turbo   \n",
      "\n",
      "      Active_Users  New_Users  Churned_Users  Daily_Churn_Rate  \\\n",
      "5783       3050000     305000          61000              0.02   \n",
      "4478       1200000      60000          60000              0.05   \n",
      "4538       1200000      60000          60000              0.05   \n",
      "4537       1200000      60000          60000              0.05   \n",
      "4535       1200000      60000          60000              0.05   \n",
      "\n",
      "      Retention_Rate  ... Session_Duration_sec     Device_Type Language  \\\n",
      "5783            0.95  ...                   60          Mobile       de   \n",
      "4478            0.95  ...                   14  Laptop/Desktop       fr   \n",
      "4538            0.95  ...                   23          Mobile       fr   \n",
      "4537            0.95  ...                   14          Mobile       zh   \n",
      "4535            0.95  ...                    7   Smart Speaker       es   \n",
      "\n",
      "      Response_Accuracy  Response_Speed_sec Response_Time_Category  \\\n",
      "5783             0.8714                1.67                   Fast   \n",
      "4478             0.8727                4.29               Standard   \n",
      "4538             0.7359                4.46               Standard   \n",
      "4537             0.7347                4.56               Standard   \n",
      "4535             0.7080                4.60               Standard   \n",
      "\n",
      "      Correction_Needed  User_Return_Frequency  Customer_Support_Interactions  \\\n",
      "5783                  0                      8                              2   \n",
      "4478                  0                      9                              2   \n",
      "4538                  0                      3                              2   \n",
      "4537                  0                      8                              2   \n",
      "4535                  0                      9                              1   \n",
      "\n",
      "                    Region  \n",
      "5783               Belgium  \n",
      "4478                Cyprus  \n",
      "4538            Kazakhstan  \n",
      "4537  Syrian Arab Republic  \n",
      "4535                Brazil  \n",
      "\n",
      "[5 rows x 28 columns]\n"
     ]
    }
   ],
   "source": [
    "# Sort and ranking\n",
    "df_sorted_speed = df.sort_values(\"Churned_Users\", ascending=False)\n",
    "print(df_sorted_speed.head())\n"
   ]
  },
  {
   "cell_type": "code",
   "execution_count": 15,
   "metadata": {},
   "outputs": [
    {
     "name": "stdout",
     "output_type": "stream",
     "text": [
      "Top 5 fastest churn: [60000 60000 60000 60000 61000]\n"
     ]
    }
   ],
   "source": [
    "sorted_indices = np.argsort(attack_array)\n",
    "top_5_fastest = np.partition(speed_array, -5)[-5:]\n",
    "print(\"Top 5 fastest churn:\", top_5_fastest)\n"
   ]
  },
  {
   "cell_type": "code",
   "execution_count": 16,
   "metadata": {},
   "outputs": [
    {
     "name": "stdout",
     "output_type": "stream",
     "text": [
      "[ 25005  25005  25005 ... 170005 170005 170005]\n"
     ]
    }
   ],
   "source": [
    "\n",
    "# Broadcasting\n",
    "attack_array += 5\n",
    "print(attack_array)"
   ]
  },
  {
   "cell_type": "code",
   "execution_count": 17,
   "metadata": {},
   "outputs": [
    {
     "name": "stdout",
     "output_type": "stream",
     "text": [
      "         Date  Month_Num   Weekday AI_Platform   AI_Model_Version  \\\n",
      "0  2024-09-21          9  Saturday     ChatGPT        GPT-4-turbo   \n",
      "1  2024-09-21          9  Saturday     ChatGPT        GPT-4-turbo   \n",
      "2  2024-09-21          9  Saturday     ChatGPT        GPT-4-turbo   \n",
      "3  2024-09-21          9  Saturday     ChatGPT        GPT-4-turbo   \n",
      "4  2024-05-16          5  Thursday    DeepSeek  DeepSeek-Chat 1.5   \n",
      "\n",
      "   Active_Users  New_Users  Churned_Users  Daily_Churn_Rate  Retention_Rate  \\\n",
      "0        500000      25005          25000              0.05            0.95   \n",
      "1        500000      25005          25000              0.05            0.95   \n",
      "2        500000      25005          25000              0.05            0.95   \n",
      "3        500000      25005          25000              0.05            0.95   \n",
      "4       1700000     170005          34000              0.02            0.95   \n",
      "\n",
      "   ... Session_Duration_sec     Device_Type Language  Response_Accuracy  \\\n",
      "0  ...                   40          Mobile       es             0.7842   \n",
      "1  ...                   24  Laptop/Desktop       zh             0.8194   \n",
      "2  ...                   34          Mobile       en             0.8090   \n",
      "3  ...                   18          Mobile       fr             0.8233   \n",
      "4  ...                   10          Mobile       de             0.9366   \n",
      "\n",
      "   Response_Speed_sec Response_Time_Category  Correction_Needed  \\\n",
      "0                3.30               Standard                  0   \n",
      "1                3.28               Standard                  1   \n",
      "2                3.07               Standard                  0   \n",
      "3                3.06               Standard                  0   \n",
      "4                1.48                   Fast                  0   \n",
      "\n",
      "   User_Return_Frequency  Customer_Support_Interactions  \\\n",
      "0                      6                              2   \n",
      "1                      2                              2   \n",
      "2                      2                              0   \n",
      "3                      9                              0   \n",
      "4                      9                              3   \n",
      "\n",
      "                                         Region  \n",
      "0  Antarctica (the territory South of 60 deg S)  \n",
      "1                                       Ukraine  \n",
      "2                                       Grenada  \n",
      "3                                        Guyana  \n",
      "4                                         India  \n",
      "\n",
      "[5 rows x 28 columns]\n"
     ]
    }
   ],
   "source": [
    "# Boolean Masking\n",
    "high_hp = df[df[\"Active_Users\"] > 100000]\n",
    "print(high_hp.head())"
   ]
  },
  {
   "cell_type": "code",
   "execution_count": 18,
   "metadata": {},
   "outputs": [
    {
     "name": "stdout",
     "output_type": "stream",
     "text": [
      "          Date  Month_Num   Weekday AI_Platform   AI_Model_Version  \\\n",
      "0   2024-09-21          9  Saturday     ChatGPT        GPT-4-turbo   \n",
      "5   2024-05-16          5  Thursday    DeepSeek  DeepSeek-Chat 1.5   \n",
      "10  2024-05-16          5  Thursday    DeepSeek  DeepSeek-Chat 1.5   \n",
      "\n",
      "    Active_Users  New_Users  Churned_Users  Daily_Churn_Rate  Retention_Rate  \\\n",
      "0         500000      25005          25000              0.05            0.95   \n",
      "5        1700000     170005          34000              0.02            0.95   \n",
      "10       1700000     170005          34000              0.02            0.95   \n",
      "\n",
      "    ... Session_Duration_sec Device_Type Language  Response_Accuracy  \\\n",
      "0   ...                   40      Mobile       es             0.7842   \n",
      "5   ...                   18      Mobile       de             0.8992   \n",
      "10  ...                   20      Mobile       es             0.8947   \n",
      "\n",
      "    Response_Speed_sec Response_Time_Category  Correction_Needed  \\\n",
      "0                 3.30               Standard                  0   \n",
      "5                 1.80                   Fast                  0   \n",
      "10                1.54                   Fast                  1   \n",
      "\n",
      "    User_Return_Frequency  Customer_Support_Interactions  \\\n",
      "0                       6                              2   \n",
      "5                       5                              2   \n",
      "10                      7                              0   \n",
      "\n",
      "                                          Region  \n",
      "0   Antarctica (the territory South of 60 deg S)  \n",
      "5                                         Sweden  \n",
      "10                                       Ukraine  \n",
      "\n",
      "[3 rows x 28 columns]\n"
     ]
    }
   ],
   "source": [
    "# Fancy Indexing\n",
    "print(df.iloc[[0, 5, 10]])"
   ]
  },
  {
   "cell_type": "code",
   "execution_count": 21,
   "metadata": {},
   "outputs": [
    {
     "name": "stdout",
     "output_type": "stream",
     "text": [
      "[('c878a177-2da9-4224-8cf8-1d56a1c6a755', 'ChatGPT',  500000)\n",
      " ('7096d0f1-d0dc-4333-a5d0-de9dfd1b99fa', 'ChatGPT',  500000)\n",
      " ('e690c254-582f-49c1-89c3-0b4dd8ee59be', 'ChatGPT',  500000)\n",
      " ('0b6a010d-9d03-44c4-bf7f-7f8d2cc461e2', 'ChatGPT',  500000)\n",
      " ('ffa90616-1fa9-48ff-842d-e84e193c64f4', 'DeepSeek', 1700000)]\n"
     ]
    }
   ],
   "source": [
    "import numpy as np\n",
    "\n",
    "structured_array = np.array(\n",
    "    list(zip(df[\"User_ID\"], df[\"AI_Platform\"], df[\"Active_Users\"])),\n",
    "    dtype=[(\"ID\", \"U50\"), (\"Platform\", \"U20\"), (\"HP\", \"i4\")]\n",
    ")\n",
    "\n",
    "print(structured_array[:5])"
   ]
  },
  {
   "cell_type": "markdown",
   "metadata": {},
   "source": [
    "## Pandas Operations: \n",
    "1. Pandas Series\n",
    "2. Pandas DataFrame\n",
    "3. Indexing and Selecting\n",
    "4. Index Alignment and Operations\n",
    "5. Handling Missing data\n",
    "6. Heirarchial Indexing "
   ]
  },
  {
   "cell_type": "code",
   "execution_count": 22,
   "metadata": {},
   "outputs": [
    {
     "name": "stdout",
     "output_type": "stream",
     "text": [
      "0     500000\n",
      "1     500000\n",
      "2     500000\n",
      "3     500000\n",
      "4    1700000\n",
      "Name: Active_Users, dtype: int64\n"
     ]
    }
   ],
   "source": [
    "\n",
    "# Convert HP column to Series\n",
    "hp_series = pd.Series(df[\"Active_Users\"])\n",
    "print(hp_series.head())\n",
    "\n"
   ]
  },
  {
   "cell_type": "code",
   "execution_count": null,
   "metadata": {},
   "outputs": [],
   "source": [
    "\n",
    "# Arithmetic\n",
    "df[\"attack_boosted\"] = df[\"New_Users\"] + 10\n",
    "df[\"speed_halved\"] = df[\"Churned_Users\"] / 2\n"
   ]
  },
  {
   "cell_type": "code",
   "execution_count": null,
   "metadata": {},
   "outputs": [],
   "source": [
    "# operations on series\n",
    "print(df[\"attack\"].sum())  # Total Attack\n",
    "print(df[\"speed\"].mean())  # Average Speed\n",
    "print(df[\"hp\"].min())      # Minimum HP\n",
    "print(df[\"defense\"].max()) # Maximum Defense\n",
    "print(df[\"type\"].value_counts())  # Count pokemon per Type\n"
   ]
  },
  {
   "cell_type": "code",
   "execution_count": null,
   "metadata": {},
   "outputs": [],
   "source": [
    "# Apply function\n",
    "df[\"attack_modified\"] = df[\"New_Users\"].apply(lambda x: x * 1.2 if x > 100000 else x)\n"
   ]
  },
  {
   "cell_type": "code",
   "execution_count": 29,
   "metadata": {},
   "outputs": [
    {
     "name": "stdout",
     "output_type": "stream",
     "text": [
      "1005137500\n",
      "35395.15\n",
      "200000\n",
      "0.95\n",
      "AI_Platform\n",
      "ChatGPT     5076\n",
      "DeepSeek    4924\n",
      "Name: count, dtype: int64\n"
     ]
    }
   ],
   "source": [
    "print(df[\"New_Users\"].sum())\n",
    "print(df[\"Churned_Users\"].mean())\n",
    "print(df[\"Active_Users\"].min())\n",
    "print(df[\"Retention_Rate\"].max())\n",
    "print(df[\"AI_Platform\"].value_counts())\n"
   ]
  },
  {
   "cell_type": "code",
   "execution_count": 30,
   "metadata": {},
   "outputs": [
    {
     "name": "stdout",
     "output_type": "stream",
     "text": [
      "0    7049.0\n",
      "1    7049.0\n",
      "2    7049.0\n",
      "3    7049.0\n",
      "4    5184.0\n",
      "Name: speed_rank, dtype: float64\n"
     ]
    }
   ],
   "source": [
    "\n",
    "# Sorting and Ranking\n",
    "df[\"speed_rank\"] = df[\"Churned_Users\"].rank(method=\"min\", ascending=False)\n",
    "print(df[\"speed_rank\"].head())"
   ]
  },
  {
   "cell_type": "code",
   "execution_count": null,
   "metadata": {},
   "outputs": [],
   "source": [
    "# Fill missing values\n",
    "df.update(df[[\"New_Users\"]].fillna(df[\"New_Users\"].mean()))\n",
    "df.dropna(subset=[\"Churned_Users\"], inplace=True)\n"
   ]
  },
  {
   "cell_type": "code",
   "execution_count": null,
   "metadata": {},
   "outputs": [],
   "source": [
    "# Create a new column (Total Stats)\n",
    "df[\"total_stats\"] = df[\"attack\"] + df[\"defense\"] + df[\"speed\"] + df[\"hp\"]\n",
    "\n",
    "# Multiply entire DataFrame by 2 (only numeric columns)\n",
    "df_numeric = df.select_dtypes(include=\"number\")\n",
    "df_doubled = df_numeric * 2\n",
    "print(df_numeric, df_doubled)\n"
   ]
  },
  {
   "cell_type": "code",
   "execution_count": null,
   "metadata": {},
   "outputs": [],
   "source": [
    "# Group pokemon by Type and get Average Attack\n",
    "type_attack = df.groupby(\"type\")[\"attack\"].mean()\n",
    "print(type_attack)\n",
    "\n",
    "# Get Maximum Speed per Type\n",
    "type_speed = df.groupby(\"type\")[\"speed\"].max()\n",
    "print(type_speed)"
   ]
  },
  {
   "cell_type": "code",
   "execution_count": null,
   "metadata": {},
   "outputs": [],
   "source": [
    "# Sort pokemon by Attack (Descending)\n",
    "df_sorted = df.sort_values(by=\"attack\", ascending=False)\n",
    "print(df_sorted)\n",
    "# Sort by Multiple Columns (Sort by Attack, then Speed)\n",
    "df_sorted = df.sort_values(by=[\"attack\", \"speed\"], ascending=[False, True])\n",
    "print(df_sorted)"
   ]
  },
  {
   "cell_type": "code",
   "execution_count": null,
   "metadata": {},
   "outputs": [],
   "source": [
    "# Apply a function to an entire column\n",
    "df[\"speed_modified\"] = df[\"speed\"].apply(lambda x: x * 1.5 if x > 80 else x)\n",
    "\n",
    "# Apply function to multiple columns (Row-wise)\n",
    "df[\"power_score\"] = df.apply(lambda row: row[\"attack\"] + row[\"speed\"], axis=1)\n",
    "print(df[\"speed_modified\"])\n",
    "print(df[\"power_score\"])\n"
   ]
  },
  {
   "cell_type": "code",
   "execution_count": null,
   "metadata": {},
   "outputs": [],
   "source": [
    "# Checking for missing values\n",
    "print(\"\\n Missing Values in Dataset:\")\n",
    "print(df.isnull().sum())\n",
    "\n",
    "# Filling missing Attack values with Mean\n",
    "df[\"attack\"] = df[\"attack\"].fillna(df[\"attack\"].mean())\n",
    "print(\"\\n Filling Missing Attack Values with Mean:\")\n",
    "print(df[[\"name\", \"attack\"]].head())\n"
   ]
  },
  {
   "cell_type": "code",
   "execution_count": null,
   "metadata": {},
   "outputs": [],
   "source": [
    "# Creating extra DataFrame for merging\n",
    "extra_data = pd.DataFrame({\n",
    "    \"name\": df[\"name\"].head(),  # Take first few pokemon names\n",
    "    \"legendary\": [False, False, True, False, True]  # Random legendary status\n",
    "})\n",
    "\n",
    "# Merging on 'name' column\n",
    "df_merged = df.merge(extra_data, on=\"name\", how=\"left\")\n",
    "print(\"\\n🔹 Merging with Extra Data (Legendary Status):\")\n",
    "print(df_merged.head())\n"
   ]
  },
  {
   "cell_type": "markdown",
   "metadata": {},
   "source": [
    "# Combining Datasets: \n",
    "1. Concatenation\n",
    "2. Merging\n",
    "3. Joins\n",
    "4. Aggregation and Grouping\n",
    "5. Pivot Tables\n"
   ]
  },
  {
   "cell_type": "code",
   "execution_count": null,
   "metadata": {},
   "outputs": [],
   "source": [
    "import pandas as pd\n",
    "# Concatenation: \n",
    "# Create a small dataset with new pokemon\n",
    "new_pokemon = pd.DataFrame({\n",
    "    \"name\": [\"Newpokemon1\", \"NewPokemon2\"],\n",
    "    \"type_1\": [\"Electric\", \"Grass\"],\n",
    "    \"hp\": [35, 45],\n",
    "    \"attack\": [55, 49]\n",
    "})\n",
    "\n",
    "# Concatenate vertically (Adding rows)\n",
    "df_combined = pd.concat([df, new_pokemon], ignore_index=True)\n",
    "print(df_combined.tail())\n"
   ]
  },
  {
   "cell_type": "code",
   "execution_count": null,
   "metadata": {},
   "outputs": [],
   "source": [
    "#Merging: \n",
    "# Example evolution dataset\n",
    "evolution_data = pd.DataFrame({\n",
    "    \"name\": [\"Bulbasaur\", \"Charmander\", \"Squirtle\"],\n",
    "    \"evolves_to\": [\"Ivysaur\", \"Charmeleon\", \"Wartortle\"]\n",
    "})\n",
    "\n",
    "# Merge on \"name\" column (Default: INNER JOIN)\n",
    "df_merged = pd.merge(df, evolution_data, on=\"name\", how=\"left\")\n",
    "print(df_merged.head())\n"
   ]
  },
  {
   "cell_type": "code",
   "execution_count": null,
   "metadata": {},
   "outputs": [],
   "source": [
    "import pandas as pd\n",
    "# Joins: \n",
    "# pokemon stats dataset\n",
    "df_stats = pd.DataFrame({\n",
    "    \"hp\": [45, 60, 80],\n",
    "    \"attack\": [49, 62, 82],\n",
    "    \"defense\": [49, 63, 83]\n",
    "}, index=[\"Bulbasaur\", \"Charmeleon\", \"Venusaur\"])\n",
    "\n",
    "# pokemon types dataset\n",
    "df_types = pd.DataFrame({\n",
    "    \"type_1\": [\"Grass\", \"Fire\", \"Grass\"],\n",
    "    \"type_2\": [\"Poison\", None, \"Poison\"]\n",
    "}, index=[\"Bulbasaur\", \"Charmeleon\", \"Venusaur\"])\n",
    "\n",
    "# Perform the join\n",
    "df_joined = df_stats.join(df_types)\n",
    "print(\"\\n\",df_joined)\n",
    "\n",
    "# INNER JOIN (Only matching pokemon)\n",
    "df_inner = df_stats.join(df_types, how=\"inner\")\n",
    "print(\"\\n\",df_inner)\n",
    "\n",
    "# OUTER JOIN (Keeps all pokemon, fills missing values with NaN)\n",
    "df_outer = df_stats.join(df_types, how=\"outer\")\n",
    "print(\"\\n\",df_outer)\n",
    "\n",
    "# RIGHT JOIN (Keeps all pokemon from df_types)\n",
    "df_right = df_stats.join(df_types, how=\"right\")\n",
    "print(\"\\n\",df_right)"
   ]
  },
  {
   "cell_type": "code",
   "execution_count": null,
   "metadata": {},
   "outputs": [],
   "source": [
    "import pandas as pd\n",
    "\n",
    "# Aggregating pokemon stats\n",
    "print(\"Total HP:\", df[\"hp\"].sum())      # Sum of all HPs\n",
    "print(\"Average Attack:\", df[\"attack\"].mean())  # Mean attack\n",
    "print(\"Strongest pokemon (Attack):\", df[\"attack\"].max())  # Max attack\n",
    "print(\"Weakest pokemon (Defense):\", df[\"defense\"].min())  # Min defense\n",
    "print(\"Total pokemon:\", df[\"name\"].count())  # Total count\n"
   ]
  },
  {
   "cell_type": "code",
   "execution_count": null,
   "metadata": {},
   "outputs": [],
   "source": [
    "# Group-By: \n",
    "# Group pokemon by Type and Get Stats\n",
    "type_stats = df.groupby(\"name\")[[\"attack\", \"hp\", \"defense\"]].agg([\"min\", \"max\", \"mean\"])\n",
    "print(\"\\n\",type_stats)\n"
   ]
  },
  {
   "cell_type": "code",
   "execution_count": null,
   "metadata": {},
   "outputs": [],
   "source": [
    "#GroupBy - Count pokemon per Group\n",
    "type_counts = df.groupby(\"attack\")[\"name\"].count()\n",
    "print(\"\\n\",type_counts)\n"
   ]
  },
  {
   "cell_type": "code",
   "execution_count": null,
   "metadata": {},
   "outputs": [],
   "source": [
    "#GroupBy - Find the Strongest pokemon per Type\n",
    "strongest_per_type = df.loc[df.groupby(\"type\")[\"attack\"].idxmax(), [\"name\", \"attack\"]]\n",
    "print(strongest_per_type)\n"
   ]
  },
  {
   "cell_type": "code",
   "execution_count": null,
   "metadata": {},
   "outputs": [],
   "source": [
    "#GroupBy - Average HP per type\n",
    "print(df.groupby(\"type\")[\"hp\"].mean())"
   ]
  },
  {
   "cell_type": "code",
   "execution_count": null,
   "metadata": {},
   "outputs": [],
   "source": [
    "#Pivot tables:\n",
    "#Average Attack per pokemon Type\n",
    "pivot_table = df.pivot_table(values=\"attack\", index=\"type\", aggfunc=\"mean\")\n",
    "print(pivot_table)\n"
   ]
  },
  {
   "cell_type": "code",
   "execution_count": null,
   "metadata": {},
   "outputs": [],
   "source": [
    "# Pivot Table with Multiple Aggregations (Min, Max, Mean Attack)\n",
    "pivot_table = df.pivot_table(values=\"attack\", index=\"type\", aggfunc=[\"min\", \"max\", \"mean\"])\n",
    "print(pivot_table)\n"
   ]
  },
  {
   "cell_type": "code",
   "execution_count": null,
   "metadata": {},
   "outputs": [],
   "source": [
    "#Counting pokemon per Type (Using Pivot Table)\n",
    "pivot_table = df.pivot_table(values=\"name\", index=\"type\", aggfunc=\"count\")\n",
    "print(pivot_table)\n"
   ]
  },
  {
   "cell_type": "code",
   "execution_count": null,
   "metadata": {},
   "outputs": [],
   "source": []
  }
 ],
 "metadata": {
  "kernelspec": {
   "display_name": "Python 3",
   "language": "python",
   "name": "python3"
  },
  "language_info": {
   "codemirror_mode": {
    "name": "ipython",
    "version": 3
   },
   "file_extension": ".py",
   "mimetype": "text/x-python",
   "name": "python",
   "nbconvert_exporter": "python",
   "pygments_lexer": "ipython3",
   "version": "3.13.1"
  }
 },
 "nbformat": 4,
 "nbformat_minor": 2
}
